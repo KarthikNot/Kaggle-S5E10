{
 "cells": [
  {
   "cell_type": "code",
   "execution_count": 1,
   "id": "9878145a",
   "metadata": {},
   "outputs": [],
   "source": [
    "import warnings \n",
    "warnings.filterwarnings('ignore')\n",
    "\n",
    "import pandas as pd\n",
    "import numpy as np\n",
    "import matplotlib.pyplot as plt\n",
    "import seaborn as sns\n",
    "\n",
    "import optuna\n",
    "from sklearn.preprocessing import LabelEncoder, StandardScaler\n",
    "\n",
    "from sklearn.model_selection import train_test_split, cross_val_score, KFold\n",
    "from sklearn.linear_model import LassoCV, ElasticNetCV\n",
    "from sklearn.ensemble import (\n",
    "    ExtraTreesRegressor, \n",
    "    RandomForestRegressor, \n",
    "    AdaBoostRegressor, \n",
    "    HistGradientBoostingRegressor,\n",
    "    GradientBoostingRegressor )\n",
    "\n",
    "from xgboost import XGBRegressor\n",
    "\n",
    "from sklearn.metrics import root_mean_squared_error"
   ]
  },
  {
   "cell_type": "code",
   "execution_count": 2,
   "id": "6d78ac6e",
   "metadata": {},
   "outputs": [
    {
     "name": "stdout",
     "output_type": "stream",
     "text": [
      "Before: (517754, 14)\n",
      "After: (629754, 13)\n"
     ]
    }
   ],
   "source": [
    "trainData = pd.read_csv('../data/train.csv')\n",
    "testData = pd.read_csv('../data/test.csv')\n",
    "_1 = pd.read_csv('../data/addData1.csv')\n",
    "_2 = pd.read_csv('../data/addData2.csv')\n",
    "_3 = pd.read_csv('../data/addData3.csv')\n",
    "\n",
    "print('Before:',trainData.shape)\n",
    "trainData = pd.concat([trainData, _1, _2, _3], axis = 0).drop('id', axis = 1)\n",
    "print(\"After:\",trainData.shape)"
   ]
  },
  {
   "cell_type": "code",
   "execution_count": 3,
   "id": "c1ccacc1",
   "metadata": {},
   "outputs": [
    {
     "data": {
      "text/html": [
       "<div>\n",
       "<style scoped>\n",
       "    .dataframe tbody tr th:only-of-type {\n",
       "        vertical-align: middle;\n",
       "    }\n",
       "\n",
       "    .dataframe tbody tr th {\n",
       "        vertical-align: top;\n",
       "    }\n",
       "\n",
       "    .dataframe thead th {\n",
       "        text-align: right;\n",
       "    }\n",
       "</style>\n",
       "<table border=\"1\" class=\"dataframe\">\n",
       "  <thead>\n",
       "    <tr style=\"text-align: right;\">\n",
       "      <th></th>\n",
       "      <th>road_type</th>\n",
       "      <th>num_lanes</th>\n",
       "      <th>curvature</th>\n",
       "      <th>speed_limit</th>\n",
       "      <th>lighting</th>\n",
       "      <th>weather</th>\n",
       "      <th>road_signs_present</th>\n",
       "      <th>public_road</th>\n",
       "      <th>time_of_day</th>\n",
       "      <th>holiday</th>\n",
       "      <th>school_season</th>\n",
       "      <th>num_reported_accidents</th>\n",
       "      <th>accident_risk</th>\n",
       "    </tr>\n",
       "  </thead>\n",
       "  <tbody>\n",
       "    <tr>\n",
       "      <th>0</th>\n",
       "      <td>urban</td>\n",
       "      <td>2</td>\n",
       "      <td>0.06</td>\n",
       "      <td>35</td>\n",
       "      <td>daylight</td>\n",
       "      <td>rainy</td>\n",
       "      <td>False</td>\n",
       "      <td>True</td>\n",
       "      <td>afternoon</td>\n",
       "      <td>False</td>\n",
       "      <td>True</td>\n",
       "      <td>1</td>\n",
       "      <td>0.13</td>\n",
       "    </tr>\n",
       "    <tr>\n",
       "      <th>1</th>\n",
       "      <td>urban</td>\n",
       "      <td>4</td>\n",
       "      <td>0.99</td>\n",
       "      <td>35</td>\n",
       "      <td>daylight</td>\n",
       "      <td>clear</td>\n",
       "      <td>True</td>\n",
       "      <td>False</td>\n",
       "      <td>evening</td>\n",
       "      <td>True</td>\n",
       "      <td>True</td>\n",
       "      <td>0</td>\n",
       "      <td>0.35</td>\n",
       "    </tr>\n",
       "    <tr>\n",
       "      <th>2</th>\n",
       "      <td>rural</td>\n",
       "      <td>4</td>\n",
       "      <td>0.63</td>\n",
       "      <td>70</td>\n",
       "      <td>dim</td>\n",
       "      <td>clear</td>\n",
       "      <td>False</td>\n",
       "      <td>True</td>\n",
       "      <td>morning</td>\n",
       "      <td>True</td>\n",
       "      <td>False</td>\n",
       "      <td>2</td>\n",
       "      <td>0.30</td>\n",
       "    </tr>\n",
       "    <tr>\n",
       "      <th>3</th>\n",
       "      <td>highway</td>\n",
       "      <td>4</td>\n",
       "      <td>0.07</td>\n",
       "      <td>35</td>\n",
       "      <td>dim</td>\n",
       "      <td>rainy</td>\n",
       "      <td>True</td>\n",
       "      <td>True</td>\n",
       "      <td>morning</td>\n",
       "      <td>False</td>\n",
       "      <td>False</td>\n",
       "      <td>1</td>\n",
       "      <td>0.21</td>\n",
       "    </tr>\n",
       "    <tr>\n",
       "      <th>4</th>\n",
       "      <td>rural</td>\n",
       "      <td>1</td>\n",
       "      <td>0.58</td>\n",
       "      <td>60</td>\n",
       "      <td>daylight</td>\n",
       "      <td>foggy</td>\n",
       "      <td>False</td>\n",
       "      <td>False</td>\n",
       "      <td>evening</td>\n",
       "      <td>True</td>\n",
       "      <td>False</td>\n",
       "      <td>1</td>\n",
       "      <td>0.56</td>\n",
       "    </tr>\n",
       "  </tbody>\n",
       "</table>\n",
       "</div>"
      ],
      "text/plain": [
       "  road_type  num_lanes  curvature  speed_limit  lighting weather  \\\n",
       "0     urban          2       0.06           35  daylight   rainy   \n",
       "1     urban          4       0.99           35  daylight   clear   \n",
       "2     rural          4       0.63           70       dim   clear   \n",
       "3   highway          4       0.07           35       dim   rainy   \n",
       "4     rural          1       0.58           60  daylight   foggy   \n",
       "\n",
       "   road_signs_present  public_road time_of_day  holiday  school_season  \\\n",
       "0               False         True   afternoon    False           True   \n",
       "1                True        False     evening     True           True   \n",
       "2               False         True     morning     True          False   \n",
       "3                True         True     morning    False          False   \n",
       "4               False        False     evening     True          False   \n",
       "\n",
       "   num_reported_accidents  accident_risk  \n",
       "0                       1           0.13  \n",
       "1                       0           0.35  \n",
       "2                       2           0.30  \n",
       "3                       1           0.21  \n",
       "4                       1           0.56  "
      ]
     },
     "execution_count": 3,
     "metadata": {},
     "output_type": "execute_result"
    }
   ],
   "source": [
    "trainData.head()"
   ]
  },
  {
   "cell_type": "code",
   "execution_count": 4,
   "id": "b94a534b",
   "metadata": {},
   "outputs": [
    {
     "data": {
      "text/html": [
       "<div>\n",
       "<style scoped>\n",
       "    .dataframe tbody tr th:only-of-type {\n",
       "        vertical-align: middle;\n",
       "    }\n",
       "\n",
       "    .dataframe tbody tr th {\n",
       "        vertical-align: top;\n",
       "    }\n",
       "\n",
       "    .dataframe thead th {\n",
       "        text-align: right;\n",
       "    }\n",
       "</style>\n",
       "<table border=\"1\" class=\"dataframe\">\n",
       "  <thead>\n",
       "    <tr style=\"text-align: right;\">\n",
       "      <th></th>\n",
       "      <th>id</th>\n",
       "      <th>road_type</th>\n",
       "      <th>num_lanes</th>\n",
       "      <th>curvature</th>\n",
       "      <th>speed_limit</th>\n",
       "      <th>lighting</th>\n",
       "      <th>weather</th>\n",
       "      <th>road_signs_present</th>\n",
       "      <th>public_road</th>\n",
       "      <th>time_of_day</th>\n",
       "      <th>holiday</th>\n",
       "      <th>school_season</th>\n",
       "      <th>num_reported_accidents</th>\n",
       "    </tr>\n",
       "  </thead>\n",
       "  <tbody>\n",
       "    <tr>\n",
       "      <th>0</th>\n",
       "      <td>517754</td>\n",
       "      <td>highway</td>\n",
       "      <td>2</td>\n",
       "      <td>0.34</td>\n",
       "      <td>45</td>\n",
       "      <td>night</td>\n",
       "      <td>clear</td>\n",
       "      <td>True</td>\n",
       "      <td>True</td>\n",
       "      <td>afternoon</td>\n",
       "      <td>True</td>\n",
       "      <td>True</td>\n",
       "      <td>1</td>\n",
       "    </tr>\n",
       "    <tr>\n",
       "      <th>1</th>\n",
       "      <td>517755</td>\n",
       "      <td>urban</td>\n",
       "      <td>3</td>\n",
       "      <td>0.04</td>\n",
       "      <td>45</td>\n",
       "      <td>dim</td>\n",
       "      <td>foggy</td>\n",
       "      <td>True</td>\n",
       "      <td>False</td>\n",
       "      <td>afternoon</td>\n",
       "      <td>True</td>\n",
       "      <td>False</td>\n",
       "      <td>0</td>\n",
       "    </tr>\n",
       "    <tr>\n",
       "      <th>2</th>\n",
       "      <td>517756</td>\n",
       "      <td>urban</td>\n",
       "      <td>2</td>\n",
       "      <td>0.59</td>\n",
       "      <td>35</td>\n",
       "      <td>dim</td>\n",
       "      <td>clear</td>\n",
       "      <td>True</td>\n",
       "      <td>False</td>\n",
       "      <td>afternoon</td>\n",
       "      <td>True</td>\n",
       "      <td>True</td>\n",
       "      <td>1</td>\n",
       "    </tr>\n",
       "    <tr>\n",
       "      <th>3</th>\n",
       "      <td>517757</td>\n",
       "      <td>rural</td>\n",
       "      <td>4</td>\n",
       "      <td>0.95</td>\n",
       "      <td>35</td>\n",
       "      <td>daylight</td>\n",
       "      <td>rainy</td>\n",
       "      <td>False</td>\n",
       "      <td>False</td>\n",
       "      <td>afternoon</td>\n",
       "      <td>False</td>\n",
       "      <td>False</td>\n",
       "      <td>2</td>\n",
       "    </tr>\n",
       "    <tr>\n",
       "      <th>4</th>\n",
       "      <td>517758</td>\n",
       "      <td>highway</td>\n",
       "      <td>2</td>\n",
       "      <td>0.86</td>\n",
       "      <td>35</td>\n",
       "      <td>daylight</td>\n",
       "      <td>clear</td>\n",
       "      <td>True</td>\n",
       "      <td>False</td>\n",
       "      <td>evening</td>\n",
       "      <td>False</td>\n",
       "      <td>True</td>\n",
       "      <td>3</td>\n",
       "    </tr>\n",
       "  </tbody>\n",
       "</table>\n",
       "</div>"
      ],
      "text/plain": [
       "       id road_type  num_lanes  curvature  speed_limit  lighting weather  \\\n",
       "0  517754   highway          2       0.34           45     night   clear   \n",
       "1  517755     urban          3       0.04           45       dim   foggy   \n",
       "2  517756     urban          2       0.59           35       dim   clear   \n",
       "3  517757     rural          4       0.95           35  daylight   rainy   \n",
       "4  517758   highway          2       0.86           35  daylight   clear   \n",
       "\n",
       "   road_signs_present  public_road time_of_day  holiday  school_season  \\\n",
       "0                True         True   afternoon     True           True   \n",
       "1                True        False   afternoon     True          False   \n",
       "2                True        False   afternoon     True           True   \n",
       "3               False        False   afternoon    False          False   \n",
       "4                True        False     evening    False           True   \n",
       "\n",
       "   num_reported_accidents  \n",
       "0                       1  \n",
       "1                       0  \n",
       "2                       1  \n",
       "3                       2  \n",
       "4                       3  "
      ]
     },
     "execution_count": 4,
     "metadata": {},
     "output_type": "execute_result"
    }
   ],
   "source": [
    "testData.head()"
   ]
  },
  {
   "cell_type": "code",
   "execution_count": 5,
   "id": "a28460c2",
   "metadata": {},
   "outputs": [
    {
     "data": {
      "text/html": [
       "<div>\n",
       "<style scoped>\n",
       "    .dataframe tbody tr th:only-of-type {\n",
       "        vertical-align: middle;\n",
       "    }\n",
       "\n",
       "    .dataframe tbody tr th {\n",
       "        vertical-align: top;\n",
       "    }\n",
       "\n",
       "    .dataframe thead th {\n",
       "        text-align: right;\n",
       "    }\n",
       "</style>\n",
       "<table border=\"1\" class=\"dataframe\">\n",
       "  <thead>\n",
       "    <tr style=\"text-align: right;\">\n",
       "      <th></th>\n",
       "      <th>num_lanes</th>\n",
       "      <th>curvature</th>\n",
       "      <th>speed_limit</th>\n",
       "      <th>num_reported_accidents</th>\n",
       "      <th>accident_risk</th>\n",
       "    </tr>\n",
       "  </thead>\n",
       "  <tbody>\n",
       "    <tr>\n",
       "      <th>mean</th>\n",
       "      <td>2.492272</td>\n",
       "      <td>0.490831</td>\n",
       "      <td>46.284597</td>\n",
       "      <td>1.244062</td>\n",
       "      <td>0.357819</td>\n",
       "    </tr>\n",
       "    <tr>\n",
       "      <th>std</th>\n",
       "      <td>1.120135</td>\n",
       "      <td>0.275527</td>\n",
       "      <td>15.889807</td>\n",
       "      <td>0.970787</td>\n",
       "      <td>0.169133</td>\n",
       "    </tr>\n",
       "    <tr>\n",
       "      <th>min</th>\n",
       "      <td>1.000000</td>\n",
       "      <td>0.000000</td>\n",
       "      <td>25.000000</td>\n",
       "      <td>0.000000</td>\n",
       "      <td>0.000000</td>\n",
       "    </tr>\n",
       "    <tr>\n",
       "      <th>25%</th>\n",
       "      <td>1.000000</td>\n",
       "      <td>0.260000</td>\n",
       "      <td>35.000000</td>\n",
       "      <td>1.000000</td>\n",
       "      <td>0.240000</td>\n",
       "    </tr>\n",
       "    <tr>\n",
       "      <th>50%</th>\n",
       "      <td>2.000000</td>\n",
       "      <td>0.510000</td>\n",
       "      <td>45.000000</td>\n",
       "      <td>1.000000</td>\n",
       "      <td>0.350000</td>\n",
       "    </tr>\n",
       "    <tr>\n",
       "      <th>75%</th>\n",
       "      <td>3.000000</td>\n",
       "      <td>0.720000</td>\n",
       "      <td>60.000000</td>\n",
       "      <td>2.000000</td>\n",
       "      <td>0.470000</td>\n",
       "    </tr>\n",
       "    <tr>\n",
       "      <th>max</th>\n",
       "      <td>4.000000</td>\n",
       "      <td>1.000000</td>\n",
       "      <td>70.000000</td>\n",
       "      <td>10.000000</td>\n",
       "      <td>1.000000</td>\n",
       "    </tr>\n",
       "  </tbody>\n",
       "</table>\n",
       "</div>"
      ],
      "text/plain": [
       "      num_lanes  curvature  speed_limit  num_reported_accidents  accident_risk\n",
       "mean   2.492272   0.490831    46.284597                1.244062       0.357819\n",
       "std    1.120135   0.275527    15.889807                0.970787       0.169133\n",
       "min    1.000000   0.000000    25.000000                0.000000       0.000000\n",
       "25%    1.000000   0.260000    35.000000                1.000000       0.240000\n",
       "50%    2.000000   0.510000    45.000000                1.000000       0.350000\n",
       "75%    3.000000   0.720000    60.000000                2.000000       0.470000\n",
       "max    4.000000   1.000000    70.000000               10.000000       1.000000"
      ]
     },
     "execution_count": 5,
     "metadata": {},
     "output_type": "execute_result"
    }
   ],
   "source": [
    "trainData.describe().drop('count')"
   ]
  },
  {
   "cell_type": "code",
   "execution_count": 6,
   "id": "ec1da5f8",
   "metadata": {},
   "outputs": [
    {
     "data": {
      "text/html": [
       "<div>\n",
       "<style scoped>\n",
       "    .dataframe tbody tr th:only-of-type {\n",
       "        vertical-align: middle;\n",
       "    }\n",
       "\n",
       "    .dataframe tbody tr th {\n",
       "        vertical-align: top;\n",
       "    }\n",
       "\n",
       "    .dataframe thead th {\n",
       "        text-align: right;\n",
       "    }\n",
       "</style>\n",
       "<table border=\"1\" class=\"dataframe\">\n",
       "  <thead>\n",
       "    <tr style=\"text-align: right;\">\n",
       "      <th></th>\n",
       "      <th>id</th>\n",
       "      <th>num_lanes</th>\n",
       "      <th>curvature</th>\n",
       "      <th>speed_limit</th>\n",
       "      <th>num_reported_accidents</th>\n",
       "    </tr>\n",
       "  </thead>\n",
       "  <tbody>\n",
       "    <tr>\n",
       "      <th>mean</th>\n",
       "      <td>604046.000000</td>\n",
       "      <td>2.494046</td>\n",
       "      <td>0.487263</td>\n",
       "      <td>46.102761</td>\n",
       "      <td>1.186059</td>\n",
       "    </tr>\n",
       "    <tr>\n",
       "      <th>std</th>\n",
       "      <td>49821.142441</td>\n",
       "      <td>1.119148</td>\n",
       "      <td>0.272343</td>\n",
       "      <td>15.787077</td>\n",
       "      <td>0.897161</td>\n",
       "    </tr>\n",
       "    <tr>\n",
       "      <th>min</th>\n",
       "      <td>517754.000000</td>\n",
       "      <td>1.000000</td>\n",
       "      <td>0.000000</td>\n",
       "      <td>25.000000</td>\n",
       "      <td>0.000000</td>\n",
       "    </tr>\n",
       "    <tr>\n",
       "      <th>25%</th>\n",
       "      <td>560900.000000</td>\n",
       "      <td>1.000000</td>\n",
       "      <td>0.260000</td>\n",
       "      <td>35.000000</td>\n",
       "      <td>1.000000</td>\n",
       "    </tr>\n",
       "    <tr>\n",
       "      <th>50%</th>\n",
       "      <td>604046.000000</td>\n",
       "      <td>2.000000</td>\n",
       "      <td>0.510000</td>\n",
       "      <td>45.000000</td>\n",
       "      <td>1.000000</td>\n",
       "    </tr>\n",
       "    <tr>\n",
       "      <th>75%</th>\n",
       "      <td>647192.000000</td>\n",
       "      <td>3.000000</td>\n",
       "      <td>0.710000</td>\n",
       "      <td>60.000000</td>\n",
       "      <td>2.000000</td>\n",
       "    </tr>\n",
       "    <tr>\n",
       "      <th>max</th>\n",
       "      <td>690338.000000</td>\n",
       "      <td>4.000000</td>\n",
       "      <td>1.000000</td>\n",
       "      <td>70.000000</td>\n",
       "      <td>7.000000</td>\n",
       "    </tr>\n",
       "  </tbody>\n",
       "</table>\n",
       "</div>"
      ],
      "text/plain": [
       "                 id  num_lanes  curvature  speed_limit  num_reported_accidents\n",
       "mean  604046.000000   2.494046   0.487263    46.102761                1.186059\n",
       "std    49821.142441   1.119148   0.272343    15.787077                0.897161\n",
       "min   517754.000000   1.000000   0.000000    25.000000                0.000000\n",
       "25%   560900.000000   1.000000   0.260000    35.000000                1.000000\n",
       "50%   604046.000000   2.000000   0.510000    45.000000                1.000000\n",
       "75%   647192.000000   3.000000   0.710000    60.000000                2.000000\n",
       "max   690338.000000   4.000000   1.000000    70.000000                7.000000"
      ]
     },
     "execution_count": 6,
     "metadata": {},
     "output_type": "execute_result"
    }
   ],
   "source": [
    "testData.describe().drop('count')"
   ]
  },
  {
   "cell_type": "code",
   "execution_count": 7,
   "id": "980b7427",
   "metadata": {},
   "outputs": [
    {
     "name": "stdout",
     "output_type": "stream",
     "text": [
      "<class 'pandas.core.frame.DataFrame'>\n",
      "Index: 629754 entries, 0 to 1999\n",
      "Data columns (total 13 columns):\n",
      " #   Column                  Non-Null Count   Dtype  \n",
      "---  ------                  --------------   -----  \n",
      " 0   road_type               629754 non-null  object \n",
      " 1   num_lanes               629754 non-null  int64  \n",
      " 2   curvature               629754 non-null  float64\n",
      " 3   speed_limit             629754 non-null  int64  \n",
      " 4   lighting                629754 non-null  object \n",
      " 5   weather                 629754 non-null  object \n",
      " 6   road_signs_present      629754 non-null  bool   \n",
      " 7   public_road             629754 non-null  bool   \n",
      " 8   time_of_day             629754 non-null  object \n",
      " 9   holiday                 629754 non-null  bool   \n",
      " 10  school_season           629754 non-null  bool   \n",
      " 11  num_reported_accidents  629754 non-null  int64  \n",
      " 12  accident_risk           629754 non-null  float64\n",
      "dtypes: bool(4), float64(2), int64(3), object(4)\n",
      "memory usage: 50.4+ MB\n"
     ]
    }
   ],
   "source": [
    "trainData.info()"
   ]
  },
  {
   "cell_type": "code",
   "execution_count": 8,
   "id": "68b22af7",
   "metadata": {},
   "outputs": [
    {
     "name": "stdout",
     "output_type": "stream",
     "text": [
      "<class 'pandas.core.frame.DataFrame'>\n",
      "RangeIndex: 172585 entries, 0 to 172584\n",
      "Data columns (total 13 columns):\n",
      " #   Column                  Non-Null Count   Dtype  \n",
      "---  ------                  --------------   -----  \n",
      " 0   id                      172585 non-null  int64  \n",
      " 1   road_type               172585 non-null  object \n",
      " 2   num_lanes               172585 non-null  int64  \n",
      " 3   curvature               172585 non-null  float64\n",
      " 4   speed_limit             172585 non-null  int64  \n",
      " 5   lighting                172585 non-null  object \n",
      " 6   weather                 172585 non-null  object \n",
      " 7   road_signs_present      172585 non-null  bool   \n",
      " 8   public_road             172585 non-null  bool   \n",
      " 9   time_of_day             172585 non-null  object \n",
      " 10  holiday                 172585 non-null  bool   \n",
      " 11  school_season           172585 non-null  bool   \n",
      " 12  num_reported_accidents  172585 non-null  int64  \n",
      "dtypes: bool(4), float64(1), int64(4), object(4)\n",
      "memory usage: 12.5+ MB\n"
     ]
    }
   ],
   "source": [
    "testData.info()"
   ]
  },
  {
   "cell_type": "markdown",
   "id": "831bf6da",
   "metadata": {},
   "source": [
    "## 1.`Data Visualization`"
   ]
  },
  {
   "cell_type": "code",
   "execution_count": 9,
   "id": "7d15dea7",
   "metadata": {},
   "outputs": [],
   "source": [
    "TARGET = 'accident_risk'\n",
    "COLUMNS = list(trainData.columns)\n",
    "COLUMNS.remove(TARGET)"
   ]
  },
  {
   "cell_type": "code",
   "execution_count": 10,
   "id": "20441edf",
   "metadata": {},
   "outputs": [
    {
     "data": {
      "image/png": "[encoded data removed]",
      "text/plain": [
       "<Figure size 1200x800 with 4 Axes>"
      ]
     },
     "metadata": {},
     "output_type": "display_data"
    }
   ],
   "source": [
    "objCols = trainData.select_dtypes('object').columns\n",
    "\n",
    "fig, axes = plt.subplots(nrows = 2, ncols = len(objCols) // 2, figsize = (12, 8))\n",
    "axes = axes.flatten()\n",
    "for col, ax in zip(objCols, axes):\n",
    "    sns.countplot(data=trainData, x = col, ax = ax, palette='muted')\n",
    "    ax.set_title(col)\n",
    "    \n",
    "    for container in ax.containers:\n",
    "        ax.bar_label(container, fontsize=8)\n",
    "    \n",
    "plt.tight_layout()\n",
    "plt.show()"
   ]
  },
  {
   "cell_type": "code",
   "execution_count": 11,
   "id": "b6dcdf10",
   "metadata": {
    "scrolled": false
   },
   "outputs": [
    {
     "data": {
      "image/png": "[encoded data removed]",
      "text/plain": [
       "<Figure size 1000x600 with 6 Axes>"
      ]
     },
     "metadata": {},
     "output_type": "display_data"
    }
   ],
   "source": [
    "numCols = trainData.select_dtypes('int', 'float').columns\n",
    "\n",
    "fig, ax = plt.subplots(nrows = len(numCols), ncols = 2, figsize = (10, 2 * len(numCols)))\n",
    "for index, col in enumerate(numCols):\n",
    "    sns.histplot(data = trainData, x = col, ax = ax[index, 0], color = 'blue', line_kws={'color' : 'red'})\n",
    "    sns.boxplot(data=trainData, x=col, ax = ax[index, 1], color = 'lightblue', linecolor='black')\n",
    "\n",
    "plt.tight_layout()\n",
    "plt.show()"
   ]
  },
  {
   "cell_type": "code",
   "execution_count": 12,
   "id": "3eea2ea1",
   "metadata": {},
   "outputs": [
    {
     "data": {
      "image/png": "[encoded data removed]",
      "text/plain": [
       "<Figure size 2400x1000 with 2 Axes>"
      ]
     },
     "metadata": {},
     "output_type": "display_data"
    }
   ],
   "source": [
    "corr = trainData[numCols.tolist() + [TARGET]].corr()\n",
    "plt.figure(figsize=(2 * len(COLUMNS), 10))\n",
    "sns.heatmap(corr, annot=True, cmap=\"coolwarm\", fmt=\".3f\", annot_kws={'color' : 'black', 'fontsize' : 20}, linecolor=\"black\")\n",
    "plt.title(\"Correlation Heatmap with Target\")\n",
    "plt.tight_layout()\n",
    "plt.show()"
   ]
  },
  {
   "cell_type": "code",
   "execution_count": 13,
   "id": "7085d57b",
   "metadata": {},
   "outputs": [
    {
     "data": {
      "image/png": "[encoded data removed]",
      "text/plain": [
       "<Figure size 600x200 with 1 Axes>"
      ]
     },
     "metadata": {},
     "output_type": "display_data"
    },
    {
     "data": {
      "image/png": "[encoded data removed]",
      "text/plain": [
       "<Figure size 600x200 with 1 Axes>"
      ]
     },
     "metadata": {},
     "output_type": "display_data"
    },
    {
     "data": {
      "image/png": "[encoded data removed]",
      "text/plain": [
       "<Figure size 600x200 with 1 Axes>"
      ]
     },
     "metadata": {},
     "output_type": "display_data"
    },
    {
     "data": {
      "image/png": "[encoded data removed]",
      "text/plain": [
       "<Figure size 600x200 with 1 Axes>"
      ]
     },
     "metadata": {},
     "output_type": "display_data"
    }
   ],
   "source": [
    "for col in objCols:\n",
    "    plt.figure(figsize=(6,2))\n",
    "    sns.boxplot(x=trainData[col], y=trainData['accident_risk'], palette='bright', linecolor='black')\n",
    "    plt.title(f\"{col} vs accident_risk\")\n",
    "    plt.show()"
   ]
  },
  {
   "cell_type": "code",
   "execution_count": 14,
   "id": "76431b1f",
   "metadata": {},
   "outputs": [
    {
     "data": {
      "image/png": "[encoded data removed]",
      "text/plain": [
       "<Figure size 1200x600 with 4 Axes>"
      ]
     },
     "metadata": {},
     "output_type": "display_data"
    }
   ],
   "source": [
    "sns.set_theme(style=\"whitegrid\")\n",
    "\n",
    "# define grid size\n",
    "n_cols = 2\n",
    "n_rows = (len(objCols) + 1) // n_cols\n",
    "\n",
    "fig, axes = plt.subplots(n_rows, n_cols, figsize=(12, n_rows*3))\n",
    "axes = axes.flatten()  # flatten in case of single row/column\n",
    "\n",
    "for i, col in enumerate(objCols):\n",
    "    ax = axes[i]\n",
    "    sns.barplot(\n",
    "        data=trainData,\n",
    "        x=col,\n",
    "        y='accident_risk',\n",
    "        estimator=np.mean,\n",
    "        ci=None,\n",
    "        palette='bright',\n",
    "        ax=ax\n",
    "    )\n",
    "    ax.set_title(f\"{col} vs accident_risk (mean)\", fontsize=10, weight='bold')\n",
    "    ax.set_xticklabels(ax.get_xticklabels(), rotation=45)\n",
    "    ax.set_ylabel(\"Mean accident_risk\")\n",
    "    \n",
    "    # Add numbers on top of bars\n",
    "    for p in ax.patches:\n",
    "        height = p.get_height()\n",
    "        ax.annotate(f'{height:.2f}', \n",
    "                    (p.get_x() + p.get_width()/2, height), \n",
    "                    ha='center', va='bottom', fontsize=9)\n",
    "\n",
    "# remove empty subplots if any\n",
    "for j in range(i+1, len(axes)):\n",
    "    fig.delaxes(axes[j])\n",
    "\n",
    "plt.tight_layout()\n",
    "plt.show()"
   ]
  },
  {
   "cell_type": "markdown",
   "id": "fbf7713b",
   "metadata": {},
   "source": [
    "## 1.`Data Preprocessing & Visualization`"
   ]
  },
  {
   "cell_type": "code",
   "execution_count": 15,
   "id": "fef8bc04",
   "metadata": {
    "scrolled": true
   },
   "outputs": [
    {
     "name": "stdout",
     "output_type": "stream",
     "text": [
      "Train nulls: 0\n",
      "Test nulls: 0\n"
     ]
    }
   ],
   "source": [
    "print('Train nulls:',trainData.isnull().sum().sum())\n",
    "print('Test nulls:',testData.isnull().sum().sum())"
   ]
  },
  {
   "cell_type": "code",
   "execution_count": 16,
   "id": "94fc9eaf",
   "metadata": {
    "scrolled": true
   },
   "outputs": [
    {
     "name": "stdout",
     "output_type": "stream",
     "text": [
      "Before: 695\n",
      "After: 0\n"
     ]
    }
   ],
   "source": [
    "print('Before:',trainData.duplicated().sum())\n",
    "trainData = trainData.drop_duplicates()\n",
    "print('After:',trainData.duplicated().sum())"
   ]
  },
  {
   "cell_type": "code",
   "execution_count": 17,
   "id": "dd34ddf7",
   "metadata": {},
   "outputs": [
    {
     "name": "stdout",
     "output_type": "stream",
     "text": [
      "road_type : ['urban' 'rural' 'highway']\n",
      "lighting : ['daylight' 'dim' 'night']\n",
      "weather : ['rainy' 'clear' 'foggy']\n",
      "time_of_day : ['afternoon' 'evening' 'morning']\n"
     ]
    }
   ],
   "source": [
    "COLUMNS = list(trainData.columns)\n",
    "COLUMNS.remove('accident_risk')\n",
    "\n",
    "for col in trainData.select_dtypes('object').columns:\n",
    "    print(f'{col} : {trainData[col].unique()}')"
   ]
  },
  {
   "cell_type": "code",
   "execution_count": 18,
   "id": "25a39442",
   "metadata": {},
   "outputs": [],
   "source": [
    "# converting bool to int (both train and test)\n",
    "boolCols = trainData.select_dtypes('bool').columns\n",
    "trainData[boolCols] = trainData[boolCols].astype(int)\n",
    "testData[boolCols] = testData[boolCols].astype(int)"
   ]
  },
  {
   "cell_type": "code",
   "execution_count": 19,
   "id": "48e4ed53",
   "metadata": {},
   "outputs": [
    {
     "name": "stdout",
     "output_type": "stream",
     "text": [
      "Index(['road_type', 'lighting', 'weather', 'time_of_day'], dtype='object')\n"
     ]
    }
   ],
   "source": [
    "# encoding string(object) features\n",
    "print(objCols)\n",
    "try:\n",
    "    trainData = pd.get_dummies(trainData, columns=objCols,)\n",
    "    testData  = pd.get_dummies(testData,  columns=objCols,)\n",
    "except: \n",
    "    pass\n",
    "\n",
    "# Convert bool → int\n",
    "boolCols = trainData.select_dtypes('bool').columns\n",
    "trainData[boolCols] = trainData[boolCols].astype(int)\n",
    "testData[boolCols]  = testData[boolCols].astype(int)"
   ]
  },
  {
   "cell_type": "markdown",
   "id": "a77c9308",
   "metadata": {},
   "source": [
    "## `Dry Run (Base Model)`"
   ]
  },
  {
   "cell_type": "code",
   "execution_count": 20,
   "id": "e403bbe6",
   "metadata": {},
   "outputs": [],
   "source": [
    "models = {\n",
    "#     'ExtraTrees' : ExtraTreesRegressor(),\n",
    "#     'RandomForest' : RandomForestRegressor(),\n",
    "#     'AdaBoost' : AdaBoostRegressor(),\n",
    "#     'HistGradient' : HistGradientBoostingRegressor(),\n",
    "#     'Gradient' : GradientBoostingRegressor()\n",
    "    'XGB' : XGBRegressor(),\n",
    "}\n",
    "\n",
    "def trainModels(models: dict, X, y):\n",
    "    X_train, X_test, y_train, y_test = train_test_split(\n",
    "        X, y, test_size=0.2, random_state=42\n",
    "    )\n",
    "\n",
    "    kf = KFold(n_splits=10, shuffle=True, random_state=42)\n",
    "\n",
    "    for modelName, model in models.items():\n",
    "        cv_scores = cross_val_score(\n",
    "            model, X_train, y_train, scoring=\"neg_root_mean_squared_error\", cv=kf, n_jobs=-1\n",
    "        )\n",
    "        \n",
    "        model.fit(X_train, y_train)\n",
    "        pred = model.predict(X_test)\n",
    "        test_rmse = root_mean_squared_error(y_test, pred)\n",
    "\n",
    "        print(f\"{modelName}: CV RMSE = {abs(cv_scores.mean()):.4f}, Test RMSE = {test_rmse:.4f}\")\n",
    "        \n",
    "def giveSubmission(model, testData : pd.DataFrame, X, y, fileName : str):\n",
    "    model.fit(X, y)\n",
    "    drySub = pd.DataFrame({'id' : testData['id'], 'accident_risk' : model.predict(testData.drop('id', axis = 1))})\n",
    "    if fileName.endswith('.csv'):\n",
    "        drySub.to_csv(f'../data/submissions/{fileName}', index = False)\n",
    "    else:\n",
    "        drySub.to_csv(f'../data/submissions/{fileName}.csv', index = False)"
   ]
  },
  {
   "cell_type": "code",
   "execution_count": 21,
   "id": "051d51df",
   "metadata": {},
   "outputs": [],
   "source": [
    "X = trainData.drop('accident_risk', axis = 1)\n",
    "y = trainData['accident_risk']\n",
    "\n",
    "# giveSubmission(XGBRegressor(), testData, X, y, 'DryRun.csv')"
   ]
  },
  {
   "cell_type": "markdown",
   "id": "c22f938d",
   "metadata": {},
   "source": [
    "## 2. `Feature Engineering`"
   ]
  },
  {
   "cell_type": "code",
   "execution_count": 27,
   "id": "0519c95f",
   "metadata": {
    "scrolled": false
   },
   "outputs": [
    {
     "name": "stderr",
     "output_type": "stream",
     "text": [
      "[I 2025-10-03 00:29:01,770] A new study created in memory with name: no-name-0c60568e-3f55-4a9c-8a3a-c31bc6e85af3\n",
      "Best trial: 0. Best value: 0.00357607:   1%|█▎                                                                                                                               | 1/100 [01:42<2:49:21, 102.64s/it]"
     ]
    },
    {
     "name": "stdout",
     "output_type": "stream",
     "text": [
      "[I 2025-10-03 00:30:44,414] Trial 0 finished with value: 0.0035760680732095187 and parameters: {'n_estimators': 501, 'max_depth': 12, 'learning_rate': 0.1886759762755643, 'subsample': 0.8823764813140661, 'colsample_bytree': 0.596714370981535, 'reg_alpha': 0.15826350453245128, 'reg_lambda': 3.526422012627113e-07}. Best is trial 0 with value: 0.0035760680732095187.\n"
     ]
    },
    {
     "name": "stderr",
     "output_type": "stream",
     "text": [
      "Best trial: 1. Best value: 0.00314344:   2%|██▌                                                                                                                               | 2/100 [02:01<1:27:21, 53.48s/it]"
     ]
    },
    {
     "name": "stdout",
     "output_type": "stream",
     "text": [
      "[I 2025-10-03 00:31:03,484] Trial 1 finished with value: 0.003143441748741695 and parameters: {'n_estimators': 862, 'max_depth': 4, 'learning_rate': 0.04566075787617071, 'subsample': 0.7549485055437842, 'colsample_bytree': 0.8671988697882084, 'reg_alpha': 0.7250625780414397, 'reg_lambda': 7.727304564178185e-08}. Best is trial 1 with value: 0.003143441748741695.\n"
     ]
    },
    {
     "name": "stderr",
     "output_type": "stream",
     "text": [
      "Best trial: 1. Best value: 0.00314344:   3%|███▉                                                                                                                              | 3/100 [02:31<1:09:14, 42.83s/it]"
     ]
    },
    {
     "name": "stdout",
     "output_type": "stream",
     "text": [
      "[I 2025-10-03 00:31:33,627] Trial 2 finished with value: 0.0032555145371514225 and parameters: {'n_estimators': 582, 'max_depth': 8, 'learning_rate': 0.26747039627443203, 'subsample': 0.687235359456313, 'colsample_bytree': 0.9622347746648392, 'reg_alpha': 0.9464252600131033, 'reg_lambda': 1.3560629130842527e-06}. Best is trial 1 with value: 0.003143441748741695.\n"
     ]
    },
    {
     "name": "stderr",
     "output_type": "stream",
     "text": [
      "Best trial: 1. Best value: 0.00314344:   4%|█████▏                                                                                                                            | 4/100 [03:10<1:06:01, 41.27s/it]"
     ]
    },
    {
     "name": "stdout",
     "output_type": "stream",
     "text": [
      "[I 2025-10-03 00:32:12,508] Trial 3 finished with value: 0.004318079879194254 and parameters: {'n_estimators': 115, 'max_depth': 12, 'learning_rate': 0.016449563277488193, 'subsample': 0.9361604837188038, 'colsample_bytree': 0.7809304711507545, 'reg_alpha': 2.3337509565063413e-07, 'reg_lambda': 3.8513694817142985e-06}. Best is trial 1 with value: 0.003143441748741695.\n"
     ]
    },
    {
     "name": "stderr",
     "output_type": "stream",
     "text": [
      "Best trial: 1. Best value: 0.00314344:   5%|██████▌                                                                                                                           | 5/100 [06:02<2:19:48, 88.30s/it]"
     ]
    },
    {
     "name": "stdout",
     "output_type": "stream",
     "text": [
      "[I 2025-10-03 00:35:04,215] Trial 4 finished with value: 0.0035319353695237843 and parameters: {'n_estimators': 550, 'max_depth': 12, 'learning_rate': 0.055780351176336604, 'subsample': 0.9491403079137369, 'colsample_bytree': 0.8578574550897409, 'reg_alpha': 1.9663804010718824e-07, 'reg_lambda': 1.5012069596798167e-08}. Best is trial 1 with value: 0.003143441748741695.\n"
     ]
    },
    {
     "name": "stderr",
     "output_type": "stream",
     "text": [
      "Best trial: 1. Best value: 0.00314344:   6%|███████▋                                                                                                                         | 6/100 [08:18<2:43:32, 104.39s/it]"
     ]
    },
    {
     "name": "stdout",
     "output_type": "stream",
     "text": [
      "[I 2025-10-03 00:37:19,823] Trial 5 finished with value: 0.003487681620473008 and parameters: {'n_estimators': 433, 'max_depth': 12, 'learning_rate': 0.08970515975800353, 'subsample': 0.723631526711165, 'colsample_bytree': 0.5793145857760359, 'reg_alpha': 1.6492462020766745e-08, 'reg_lambda': 6.753507411895846e-05}. Best is trial 1 with value: 0.003143441748741695.\n"
     ]
    },
    {
     "name": "stderr",
     "output_type": "stream",
     "text": [
      "Best trial: 1. Best value: 0.00314344:   7%|█████████                                                                                                                         | 7/100 [08:25<1:52:46, 72.76s/it]"
     ]
    },
    {
     "name": "stdout",
     "output_type": "stream",
     "text": [
      "[I 2025-10-03 00:37:27,463] Trial 6 finished with value: 0.0038631571528139905 and parameters: {'n_estimators': 271, 'max_depth': 3, 'learning_rate': 0.014132195345172216, 'subsample': 0.8107346125747269, 'colsample_bytree': 0.5077043721831322, 'reg_alpha': 0.3154968722846925, 'reg_lambda': 1.332353740684486e-05}. Best is trial 1 with value: 0.003143441748741695.\n"
     ]
    },
    {
     "name": "stderr",
     "output_type": "stream",
     "text": [
      "Best trial: 1. Best value: 0.00314344:   8%|██████████▍                                                                                                                       | 8/100 [08:37<1:21:35, 53.21s/it]"
     ]
    },
    {
     "name": "stdout",
     "output_type": "stream",
     "text": [
      "[I 2025-10-03 00:37:38,805] Trial 7 finished with value: 0.0031474381547654693 and parameters: {'n_estimators': 299, 'max_depth': 5, 'learning_rate': 0.1690460605611118, 'subsample': 0.7216281837398462, 'colsample_bytree': 0.6678270957392098, 'reg_alpha': 0.00046616499919312497, 'reg_lambda': 0.45079332126425514}. Best is trial 1 with value: 0.003143441748741695.\n"
     ]
    },
    {
     "name": "stderr",
     "output_type": "stream",
     "text": [
      "Best trial: 8. Best value: 0.00313613:   9%|███████████▋                                                                                                                      | 9/100 [08:50<1:01:46, 40.73s/it]"
     ]
    },
    {
     "name": "stdout",
     "output_type": "stream",
     "text": [
      "[I 2025-10-03 00:37:52,112] Trial 8 finished with value: 0.0031361292913404523 and parameters: {'n_estimators': 294, 'max_depth': 6, 'learning_rate': 0.03729605272380582, 'subsample': 0.957518218942939, 'colsample_bytree': 0.6288001081043333, 'reg_alpha': 2.3439517403951094e-07, 'reg_lambda': 4.791443139122583e-07}. Best is trial 8 with value: 0.0031361292913404523.\n"
     ]
    },
    {
     "name": "stderr",
     "output_type": "stream",
     "text": [
      "Best trial: 8. Best value: 0.00313613:  10%|████████████▉                                                                                                                    | 10/100 [09:53<1:11:17, 47.52s/it]"
     ]
    },
    {
     "name": "stdout",
     "output_type": "stream",
     "text": [
      "[I 2025-10-03 00:38:54,842] Trial 9 finished with value: 0.003230762429571947 and parameters: {'n_estimators': 503, 'max_depth': 12, 'learning_rate': 0.15818708429659462, 'subsample': 0.5470167973397231, 'colsample_bytree': 0.6112260287096531, 'reg_alpha': 1.047759664018697, 'reg_lambda': 0.26107030864820047}. Best is trial 8 with value: 0.0031361292913404523.\n"
     ]
    },
    {
     "name": "stderr",
     "output_type": "stream",
     "text": [
      "Best trial: 10. Best value: 0.00313513:  11%|██████████████                                                                                                                  | 11/100 [10:28<1:04:52, 43.74s/it]"
     ]
    },
    {
     "name": "stdout",
     "output_type": "stream",
     "text": [
      "[I 2025-10-03 00:39:29,989] Trial 10 finished with value: 0.0031351290811848682 and parameters: {'n_estimators': 780, 'max_depth': 7, 'learning_rate': 0.02717954070204468, 'subsample': 0.9987029611369233, 'colsample_bytree': 0.7123348552090042, 'reg_alpha': 2.7604604357041935e-05, 'reg_lambda': 0.002996266222046955}. Best is trial 10 with value: 0.0031351290811848682.\n"
     ]
    },
    {
     "name": "stderr",
     "output_type": "stream",
     "text": [
      "Best trial: 10. Best value: 0.00313513:  12%|███████████████▎                                                                                                                | 12/100 [11:08<1:02:45, 42.79s/it]"
     ]
    },
    {
     "name": "stdout",
     "output_type": "stream",
     "text": [
      "[I 2025-10-03 00:40:10,604] Trial 11 finished with value: 0.0031355978633169886 and parameters: {'n_estimators': 819, 'max_depth': 7, 'learning_rate': 0.027324158257741385, 'subsample': 0.994872756107574, 'colsample_bytree': 0.7185753277474078, 'reg_alpha': 3.5363049066184e-05, 'reg_lambda': 0.003541009663092722}. Best is trial 10 with value: 0.0031351290811848682.\n"
     ]
    },
    {
     "name": "stderr",
     "output_type": "stream",
     "text": [
      "Best trial: 10. Best value: 0.00313513:  13%|████████████████▋                                                                                                               | 13/100 [12:03<1:07:02, 46.24s/it]"
     ]
    },
    {
     "name": "stdout",
     "output_type": "stream",
     "text": [
      "[I 2025-10-03 00:41:04,777] Trial 12 finished with value: 0.003140782051217384 and parameters: {'n_estimators': 870, 'max_depth': 8, 'learning_rate': 0.02293960067130653, 'subsample': 0.9979287708645721, 'colsample_bytree': 0.7271304750680391, 'reg_alpha': 7.504353727119198e-05, 'reg_lambda': 0.004370676576381376}. Best is trial 10 with value: 0.0031351290811848682.\n"
     ]
    },
    {
     "name": "stderr",
     "output_type": "stream",
     "text": [
      "Best trial: 13. Best value: 0.00313447:  14%|█████████████████▉                                                                                                              | 14/100 [13:13<1:16:35, 53.43s/it]"
     ]
    },
    {
     "name": "stdout",
     "output_type": "stream",
     "text": [
      "[I 2025-10-03 00:42:14,843] Trial 13 finished with value: 0.003134474140842438 and parameters: {'n_estimators': 744, 'max_depth': 9, 'learning_rate': 0.010136062345614242, 'subsample': 0.8521751625724464, 'colsample_bytree': 0.7458362701400175, 'reg_alpha': 8.437795670284402e-05, 'reg_lambda': 0.002241309264162125}. Best is trial 13 with value: 0.003134474140842438.\n"
     ]
    },
    {
     "name": "stderr",
     "output_type": "stream",
     "text": [
      "Best trial: 13. Best value: 0.00313447:  15%|███████████████████▏                                                                                                            | 15/100 [14:53<1:35:36, 67.49s/it]"
     ]
    },
    {
     "name": "stdout",
     "output_type": "stream",
     "text": [
      "[I 2025-10-03 00:43:54,906] Trial 14 finished with value: 0.0031491316243027123 and parameters: {'n_estimators': 715, 'max_depth': 10, 'learning_rate': 0.010691803768994805, 'subsample': 0.8556398667647938, 'colsample_bytree': 0.7925108083316662, 'reg_alpha': 0.0031603916545647906, 'reg_lambda': 0.006442543533655077}. Best is trial 13 with value: 0.003134474140842438.\n"
     ]
    },
    {
     "name": "stderr",
     "output_type": "stream",
     "text": [
      "Best trial: 13. Best value: 0.00313447:  16%|████████████████████▍                                                                                                           | 16/100 [16:20<1:42:42, 73.36s/it]"
     ]
    },
    {
     "name": "stdout",
     "output_type": "stream",
     "text": [
      "[I 2025-10-03 00:45:21,910] Trial 15 finished with value: 0.003139691702837042 and parameters: {'n_estimators': 961, 'max_depth': 9, 'learning_rate': 0.010348172511997024, 'subsample': 0.6334336469120663, 'colsample_bytree': 0.8444751693220149, 'reg_alpha': 7.227206248575271e-06, 'reg_lambda': 0.0004256466201695222}. Best is trial 13 with value: 0.003134474140842438.\n"
     ]
    },
    {
     "name": "stderr",
     "output_type": "stream",
     "text": [
      "Best trial: 13. Best value: 0.00313447:  17%|█████████████████████▊                                                                                                          | 17/100 [17:48<1:47:53, 77.99s/it]"
     ]
    },
    {
     "name": "stdout",
     "output_type": "stream",
     "text": [
      "[I 2025-10-03 00:46:50,657] Trial 16 finished with value: 0.0031632771264500986 and parameters: {'n_estimators': 714, 'max_depth': 10, 'learning_rate': 0.023570642665438995, 'subsample': 0.8754842920138293, 'colsample_bytree': 0.6868816890116104, 'reg_alpha': 0.0048159050750059135, 'reg_lambda': 5.974591926625581}. Best is trial 13 with value: 0.003134474140842438.\n"
     ]
    },
    {
     "name": "stderr",
     "output_type": "stream",
     "text": [
      "Best trial: 13. Best value: 0.00313447:  18%|███████████████████████                                                                                                         | 18/100 [18:14<1:25:13, 62.36s/it]"
     ]
    },
    {
     "name": "stdout",
     "output_type": "stream",
     "text": [
      "[I 2025-10-03 00:47:16,640] Trial 17 finished with value: 0.0031451169147187112 and parameters: {'n_estimators': 660, 'max_depth': 6, 'learning_rate': 0.07395148536811157, 'subsample': 0.8117581833251464, 'colsample_bytree': 0.9660695490727964, 'reg_alpha': 4.5077237932445616e-06, 'reg_lambda': 0.023873739057157808}. Best is trial 13 with value: 0.003134474140842438.\n"
     ]
    },
    {
     "name": "stderr",
     "output_type": "stream",
     "text": [
      "Best trial: 13. Best value: 0.00313447:  19%|████████████████████████▎                                                                                                       | 19/100 [20:21<1:50:16, 81.69s/it]"
     ]
    },
    {
     "name": "stdout",
     "output_type": "stream",
     "text": [
      "[I 2025-10-03 00:49:23,354] Trial 18 finished with value: 0.0031758735757210165 and parameters: {'n_estimators': 966, 'max_depth': 10, 'learning_rate': 0.016169324365419853, 'subsample': 0.9153531082709605, 'colsample_bytree': 0.7857232207690136, 'reg_alpha': 0.01449610347327618, 'reg_lambda': 0.08845262885490035}. Best is trial 13 with value: 0.003134474140842438.\n"
     ]
    },
    {
     "name": "stderr",
     "output_type": "stream",
     "text": [
      "Best trial: 13. Best value: 0.00313447:  20%|█████████████████████████▌                                                                                                      | 20/100 [21:00<1:31:36, 68.71s/it]"
     ]
    },
    {
     "name": "stdout",
     "output_type": "stream",
     "text": [
      "[I 2025-10-03 00:50:01,804] Trial 19 finished with value: 0.0031422533355662933 and parameters: {'n_estimators': 783, 'max_depth': 7, 'learning_rate': 0.03574773374982979, 'subsample': 0.8120335381499993, 'colsample_bytree': 0.9062226125660184, 'reg_alpha': 0.0002520773558699988, 'reg_lambda': 0.0007525127366328004}. Best is trial 13 with value: 0.003134474140842438.\n"
     ]
    },
    {
     "name": "stderr",
     "output_type": "stream",
     "text": [
      "Best trial: 13. Best value: 0.00313447:  21%|██████████████████████████▉                                                                                                     | 21/100 [22:09<1:30:38, 68.84s/it]"
     ]
    },
    {
     "name": "stdout",
     "output_type": "stream",
     "text": [
      "[I 2025-10-03 00:51:10,945] Trial 20 finished with value: 0.0032874389267457844 and parameters: {'n_estimators': 641, 'max_depth': 9, 'learning_rate': 0.09321188100221096, 'subsample': 0.5249530851800599, 'colsample_bytree': 0.6764331357698206, 'reg_alpha': 4.7367019671608955e-06, 'reg_lambda': 9.757612249989604e-05}. Best is trial 13 with value: 0.003134474140842438.\n"
     ]
    },
    {
     "name": "stderr",
     "output_type": "stream",
     "text": [
      "Best trial: 13. Best value: 0.00313447:  22%|████████████████████████████▏                                                                                                   | 22/100 [22:48<1:17:56, 59.96s/it]"
     ]
    },
    {
     "name": "stdout",
     "output_type": "stream",
     "text": [
      "[I 2025-10-03 00:51:50,198] Trial 21 finished with value: 0.0031353523006822396 and parameters: {'n_estimators': 826, 'max_depth': 7, 'learning_rate': 0.02699140891879686, 'subsample': 0.9983103380821541, 'colsample_bytree': 0.7369026875126995, 'reg_alpha': 4.608241306119073e-05, 'reg_lambda': 0.0023101581405659166}. Best is trial 13 with value: 0.003134474140842438.\n"
     ]
    },
    {
     "name": "stderr",
     "output_type": "stream",
     "text": [
      "Best trial: 22. Best value: 0.0031329:  23%|█████████████████████████████▋                                                                                                   | 23/100 [23:19<1:05:41, 51.19s/it]"
     ]
    },
    {
     "name": "stdout",
     "output_type": "stream",
     "text": [
      "[I 2025-10-03 00:52:20,929] Trial 22 finished with value: 0.0031328996871165275 and parameters: {'n_estimators': 764, 'max_depth': 6, 'learning_rate': 0.019724624910257726, 'subsample': 0.9941847418623285, 'colsample_bytree': 0.7508051705059706, 'reg_alpha': 0.0008031714650406539, 'reg_lambda': 0.0009873323372121814}. Best is trial 22 with value: 0.0031328996871165275.\n"
     ]
    },
    {
     "name": "stderr",
     "output_type": "stream",
     "text": [
      "Best trial: 22. Best value: 0.0031329:  24%|███████████████████████████████▍                                                                                                   | 24/100 [23:44<54:51, 43.30s/it]"
     ]
    },
    {
     "name": "stdout",
     "output_type": "stream",
     "text": [
      "[I 2025-10-03 00:52:45,837] Trial 23 finished with value: 0.00313733606620158 and parameters: {'n_estimators': 728, 'max_depth': 5, 'learning_rate': 0.018948184302986268, 'subsample': 0.9063414239226047, 'colsample_bytree': 0.8118864163175226, 'reg_alpha': 0.000671683278635839, 'reg_lambda': 6.486144862976306e-05}. Best is trial 22 with value: 0.0031328996871165275.\n"
     ]
    },
    {
     "name": "stderr",
     "output_type": "stream",
     "text": [
      "Best trial: 22. Best value: 0.0031329:  25%|████████████████████████████████▊                                                                                                  | 25/100 [24:18<50:40, 40.54s/it]"
     ]
    },
    {
     "name": "stdout",
     "output_type": "stream",
     "text": [
      "[I 2025-10-03 00:53:19,918] Trial 24 finished with value: 0.0031414303200945843 and parameters: {'n_estimators': 899, 'max_depth': 6, 'learning_rate': 0.013162317152824492, 'subsample': 0.8363926708296663, 'colsample_bytree': 0.7564190031124779, 'reg_alpha': 9.455469381594646, 'reg_lambda': 0.02205780030496714}. Best is trial 22 with value: 0.0031328996871165275.\n"
     ]
    },
    {
     "name": "stderr",
     "output_type": "stream",
     "text": [
      "Best trial: 22. Best value: 0.0031329:  26%|█████████████████████████████████▌                                                                                               | 26/100 [25:28<1:00:59, 49.45s/it]"
     ]
    },
    {
     "name": "stdout",
     "output_type": "stream",
     "text": [
      "[I 2025-10-03 00:54:30,157] Trial 25 finished with value: 0.0031488490847006332 and parameters: {'n_estimators': 784, 'max_depth': 9, 'learning_rate': 0.02107790522983183, 'subsample': 0.9530354840088289, 'colsample_bytree': 0.6484663686949544, 'reg_alpha': 0.002226214730236034, 'reg_lambda': 0.0006297093619353956}. Best is trial 22 with value: 0.0031328996871165275.\n"
     ]
    },
    {
     "name": "stderr",
     "output_type": "stream",
     "text": [
      "Best trial: 22. Best value: 0.0031329:  27%|███████████████████████████████████▎                                                                                               | 27/100 [25:51<50:37, 41.62s/it]"
     ]
    },
    {
     "name": "stdout",
     "output_type": "stream",
     "text": [
      "[I 2025-10-03 00:54:53,498] Trial 26 finished with value: 0.003142347483766618 and parameters: {'n_estimators': 649, 'max_depth': 5, 'learning_rate': 0.01334758532722295, 'subsample': 0.7771447563951834, 'colsample_bytree': 0.7059829054508223, 'reg_alpha': 0.04651646281648142, 'reg_lambda': 2.530907061396031}. Best is trial 22 with value: 0.0031328996871165275.\n"
     ]
    },
    {
     "name": "stderr",
     "output_type": "stream",
     "text": [
      "Best trial: 22. Best value: 0.0031329:  28%|████████████████████████████████████▋                                                                                              | 28/100 [26:49<55:35, 46.32s/it]"
     ]
    },
    {
     "name": "stdout",
     "output_type": "stream",
     "text": [
      "[I 2025-10-03 00:55:50,812] Trial 27 finished with value: 0.003150553574380723 and parameters: {'n_estimators': 745, 'max_depth': 8, 'learning_rate': 0.035285756505609105, 'subsample': 0.903227477397374, 'colsample_bytree': 0.761888459256381, 'reg_alpha': 1.1902398287274979e-06, 'reg_lambda': 1.3183920428274023e-05}. Best is trial 22 with value: 0.0031328996871165275.\n"
     ]
    },
    {
     "name": "stderr",
     "output_type": "stream",
     "text": [
      "Best trial: 22. Best value: 0.0031329:  29%|█████████████████████████████████████▉                                                                                             | 29/100 [27:17<48:24, 40.91s/it]"
     ]
    },
    {
     "name": "stdout",
     "output_type": "stream",
     "text": [
      "[I 2025-10-03 00:56:19,088] Trial 28 finished with value: 0.003146271776304232 and parameters: {'n_estimators': 923, 'max_depth': 4, 'learning_rate': 0.029802982952336573, 'subsample': 0.6105366835032537, 'colsample_bytree': 0.8290109814818468, 'reg_alpha': 0.00011147647658372247, 'reg_lambda': 0.027500915257786803}. Best is trial 22 with value: 0.0031328996871165275.\n"
     ]
    },
    {
     "name": "stderr",
     "output_type": "stream",
     "text": [
      "Best trial: 22. Best value: 0.0031329:  30%|██████████████████████████████████████▋                                                                                          | 30/100 [29:28<1:19:11, 67.88s/it]"
     ]
    },
    {
     "name": "stdout",
     "output_type": "stream",
     "text": [
      "[I 2025-10-03 00:58:29,910] Trial 29 finished with value: 0.0031712508038394113 and parameters: {'n_estimators': 600, 'max_depth': 11, 'learning_rate': 0.010264746572712298, 'subsample': 0.880135204363174, 'colsample_bytree': 0.5628991425257602, 'reg_alpha': 1.662389436210407e-05, 'reg_lambda': 0.0002044411716008457}. Best is trial 22 with value: 0.0031328996871165275.\n"
     ]
    },
    {
     "name": "stderr",
     "output_type": "stream",
     "text": [
      "Best trial: 22. Best value: 0.0031329:  31%|███████████████████████████████████████▉                                                                                         | 31/100 [29:46<1:01:01, 53.06s/it]"
     ]
    },
    {
     "name": "stdout",
     "output_type": "stream",
     "text": [
      "[I 2025-10-03 00:58:48,393] Trial 30 finished with value: 0.003133765139131081 and parameters: {'n_estimators': 447, 'max_depth': 6, 'learning_rate': 0.0176438273526905, 'subsample': 0.9686027928513232, 'colsample_bytree': 0.9042843425465641, 'reg_alpha': 0.0008410713253689229, 'reg_lambda': 0.001156408387599577}. Best is trial 22 with value: 0.0031328996871165275.\n"
     ]
    },
    {
     "name": "stderr",
     "output_type": "stream",
     "text": [
      "Best trial: 22. Best value: 0.0031329:  32%|█████████████████████████████████████████▉                                                                                         | 32/100 [30:04<48:16, 42.60s/it]"
     ]
    },
    {
     "name": "stdout",
     "output_type": "stream",
     "text": [
      "[I 2025-10-03 00:59:06,560] Trial 31 finished with value: 0.0031341736599788906 and parameters: {'n_estimators': 429, 'max_depth': 6, 'learning_rate': 0.018086964927745496, 'subsample': 0.9727489239538065, 'colsample_bytree': 0.9279896899385048, 'reg_alpha': 0.001371613265400796, 'reg_lambda': 0.0012570792550291518}. Best is trial 22 with value: 0.0031328996871165275.\n"
     ]
    },
    {
     "name": "stderr",
     "output_type": "stream",
     "text": [
      "Best trial: 22. Best value: 0.0031329:  33%|███████████████████████████████████████████▏                                                                                       | 33/100 [30:20<38:41, 34.65s/it]"
     ]
    },
    {
     "name": "stdout",
     "output_type": "stream",
     "text": [
      "[I 2025-10-03 00:59:22,681] Trial 32 finished with value: 0.0031354761930939257 and parameters: {'n_estimators': 392, 'max_depth': 6, 'learning_rate': 0.01739371134233919, 'subsample': 0.9543895059415746, 'colsample_bytree': 0.9261708832471969, 'reg_alpha': 0.0012717605240716067, 'reg_lambda': 0.001053796918243619}. Best is trial 22 with value: 0.0031328996871165275.\n"
     ]
    },
    {
     "name": "stderr",
     "output_type": "stream",
     "text": [
      "Best trial: 22. Best value: 0.0031329:  34%|████████████████████████████████████████████▌                                                                                      | 34/100 [30:31<30:16, 27.52s/it]"
     ]
    },
    {
     "name": "stdout",
     "output_type": "stream",
     "text": [
      "[I 2025-10-03 00:59:33,557] Trial 33 finished with value: 0.0031825758953204566 and parameters: {'n_estimators': 421, 'max_depth': 4, 'learning_rate': 0.013272443410448451, 'subsample': 0.9732509410620539, 'colsample_bytree': 0.9120174919953381, 'reg_alpha': 0.016488413955845084, 'reg_lambda': 2.2199765872698196e-05}. Best is trial 22 with value: 0.0031328996871165275.\n"
     ]
    },
    {
     "name": "stderr",
     "output_type": "stream",
     "text": [
      "Best trial: 22. Best value: 0.0031329:  35%|█████████████████████████████████████████████▊                                                                                     | 35/100 [30:48<26:13, 24.20s/it]"
     ]
    },
    {
     "name": "stdout",
     "output_type": "stream",
     "text": [
      "[I 2025-10-03 00:59:50,019] Trial 34 finished with value: 0.0031363951814579218 and parameters: {'n_estimators': 492, 'max_depth': 5, 'learning_rate': 0.04961610870674339, 'subsample': 0.9192925896173411, 'colsample_bytree': 0.9395613307011605, 'reg_alpha': 0.00018262820431218552, 'reg_lambda': 0.008687356775374737}. Best is trial 22 with value: 0.0031328996871165275.\n"
     ]
    },
    {
     "name": "stderr",
     "output_type": "stream",
     "text": [
      "Best trial: 35. Best value: 0.00312919:  36%|██████████████████████████████████████████████▊                                                                                   | 36/100 [31:12<25:46, 24.17s/it]"
     ]
    },
    {
     "name": "stdout",
     "output_type": "stream",
     "text": [
      "[I 2025-10-03 01:00:14,102] Trial 35 finished with value: 0.0031291943370235003 and parameters: {'n_estimators': 352, 'max_depth': 8, 'learning_rate': 0.019591592396180114, 'subsample': 0.8710651099871863, 'colsample_bytree': 0.9951506608219521, 'reg_alpha': 0.011229532637722523, 'reg_lambda': 0.00022044978089728225}. Best is trial 35 with value: 0.0031291943370235003.\n"
     ]
    },
    {
     "name": "stderr",
     "output_type": "stream",
     "text": [
      "Best trial: 35. Best value: 0.00312919:  37%|████████████████████████████████████████████████                                                                                  | 37/100 [31:28<22:43, 21.65s/it]"
     ]
    },
    {
     "name": "stdout",
     "output_type": "stream",
     "text": [
      "[I 2025-10-03 01:00:29,867] Trial 36 finished with value: 0.003134577283780724 and parameters: {'n_estimators': 350, 'max_depth': 6, 'learning_rate': 0.019390260372279138, 'subsample': 0.9334609664043223, 'colsample_bytree': 0.9900741299789404, 'reg_alpha': 0.010058177078128058, 'reg_lambda': 5.435356445804433e-06}. Best is trial 35 with value: 0.0031291943370235003.\n"
     ]
    },
    {
     "name": "stderr",
     "output_type": "stream",
     "text": [
      "Best trial: 35. Best value: 0.00312919:  38%|█████████████████████████████████████████████████▍                                                                                | 38/100 [31:41<19:40, 19.03s/it]"
     ]
    },
    {
     "name": "stdout",
     "output_type": "stream",
     "text": [
      "[I 2025-10-03 01:00:42,809] Trial 37 finished with value: 0.003130675250631021 and parameters: {'n_estimators': 182, 'max_depth': 8, 'learning_rate': 0.04247035802225551, 'subsample': 0.9693969536069077, 'colsample_bytree': 0.9819513341212294, 'reg_alpha': 0.06690834956527163, 'reg_lambda': 0.00017294973361792757}. Best is trial 35 with value: 0.0031291943370235003.\n"
     ]
    },
    {
     "name": "stderr",
     "output_type": "stream",
     "text": [
      "Best trial: 35. Best value: 0.00312919:  39%|██████████████████████████████████████████████████▋                                                                               | 39/100 [31:53<17:11, 16.92s/it]"
     ]
    },
    {
     "name": "stdout",
     "output_type": "stream",
     "text": [
      "[I 2025-10-03 01:00:54,777] Trial 38 finished with value: 0.003130117493209083 and parameters: {'n_estimators': 159, 'max_depth': 8, 'learning_rate': 0.04275115223070384, 'subsample': 0.9291161987063717, 'colsample_bytree': 0.8827174035615282, 'reg_alpha': 0.09413578775554705, 'reg_lambda': 0.0002641156411562091}. Best is trial 35 with value: 0.0031291943370235003.\n"
     ]
    },
    {
     "name": "stderr",
     "output_type": "stream",
     "text": [
      "Best trial: 35. Best value: 0.00312919:  40%|████████████████████████████████████████████████████                                                                              | 40/100 [32:02<14:49, 14.82s/it]"
     ]
    },
    {
     "name": "stdout",
     "output_type": "stream",
     "text": [
      "[I 2025-10-03 01:01:04,719] Trial 39 finished with value: 0.0031317409382270816 and parameters: {'n_estimators': 130, 'max_depth': 8, 'learning_rate': 0.0614566620441658, 'subsample': 0.9354184931016518, 'colsample_bytree': 0.8793905512494705, 'reg_alpha': 0.07586603604351028, 'reg_lambda': 5.116043624796466e-05}. Best is trial 35 with value: 0.0031291943370235003.\n"
     ]
    },
    {
     "name": "stderr",
     "output_type": "stream",
     "text": [
      "Best trial: 35. Best value: 0.00312919:  41%|█████████████████████████████████████████████████████▎                                                                            | 41/100 [32:11<12:49, 13.04s/it]"
     ]
    },
    {
     "name": "stdout",
     "output_type": "stream",
     "text": [
      "[I 2025-10-03 01:01:13,585] Trial 40 finished with value: 0.003130755527815796 and parameters: {'n_estimators': 113, 'max_depth': 8, 'learning_rate': 0.0651017030335326, 'subsample': 0.8916477999434603, 'colsample_bytree': 0.8761709046688392, 'reg_alpha': 0.11012806500583407, 'reg_lambda': 7.190974439765459e-07}. Best is trial 35 with value: 0.0031291943370235003.\n"
     ]
    },
    {
     "name": "stderr",
     "output_type": "stream",
     "text": [
      "Best trial: 35. Best value: 0.00312919:  42%|██████████████████████████████████████████████████████▌                                                                           | 42/100 [32:20<11:13, 11.62s/it]"
     ]
    },
    {
     "name": "stdout",
     "output_type": "stream",
     "text": [
      "[I 2025-10-03 01:01:21,889] Trial 41 finished with value: 0.0031305468323405495 and parameters: {'n_estimators': 103, 'max_depth': 8, 'learning_rate': 0.058450331936907, 'subsample': 0.8933133007675169, 'colsample_bytree': 0.8848635468677741, 'reg_alpha': 0.1012978931217933, 'reg_lambda': 5.6844013188169676e-08}. Best is trial 35 with value: 0.0031291943370235003.\n"
     ]
    },
    {
     "name": "stderr",
     "output_type": "stream",
     "text": [
      "Best trial: 35. Best value: 0.00312919:  43%|███████████████████████████████████████████████████████▉                                                                          | 43/100 [32:32<11:14, 11.83s/it]"
     ]
    },
    {
     "name": "stdout",
     "output_type": "stream",
     "text": [
      "[I 2025-10-03 01:01:34,215] Trial 42 finished with value: 0.003145559008647017 and parameters: {'n_estimators': 186, 'max_depth': 8, 'learning_rate': 0.11512246646636852, 'subsample': 0.8907742125775695, 'colsample_bytree': 0.9979290940977364, 'reg_alpha': 0.29916022058636843, 'reg_lambda': 5.951663042551142e-08}. Best is trial 35 with value: 0.0031291943370235003.\n"
     ]
    },
    {
     "name": "stderr",
     "output_type": "stream",
     "text": [
      "Best trial: 35. Best value: 0.00312919:  44%|█████████████████████████████████████████████████████████▏                                                                        | 44/100 [32:44<11:14, 12.04s/it]"
     ]
    },
    {
     "name": "stdout",
     "output_type": "stream",
     "text": [
      "[I 2025-10-03 01:01:46,733] Trial 43 finished with value: 0.0031304778904153426 and parameters: {'n_estimators': 203, 'max_depth': 8, 'learning_rate': 0.04361353798309217, 'subsample': 0.7867345461205962, 'colsample_bytree': 0.9627981777369854, 'reg_alpha': 2.999326876518207, 'reg_lambda': 6.248644727477825e-07}. Best is trial 35 with value: 0.0031291943370235003.\n"
     ]
    },
    {
     "name": "stderr",
     "output_type": "stream",
     "text": [
      "Best trial: 44. Best value: 0.00312907:  45%|██████████████████████████████████████████████████████████▌                                                                       | 45/100 [33:01<12:08, 13.24s/it]"
     ]
    },
    {
     "name": "stdout",
     "output_type": "stream",
     "text": [
      "[I 2025-10-03 01:02:02,798] Trial 44 finished with value: 0.0031290716145370946 and parameters: {'n_estimators': 214, 'max_depth': 9, 'learning_rate': 0.04056926814256155, 'subsample': 0.7801390792424823, 'colsample_bytree': 0.961863540584986, 'reg_alpha': 2.5344177396678007, 'reg_lambda': 1.6090790012396429e-07}. Best is trial 44 with value: 0.0031290716145370946.\n"
     ]
    },
    {
     "name": "stderr",
     "output_type": "stream",
     "text": [
      "Best trial: 44. Best value: 0.00312907:  46%|███████████████████████████████████████████████████████████▊                                                                      | 46/100 [33:18<13:09, 14.61s/it]"
     ]
    },
    {
     "name": "stdout",
     "output_type": "stream",
     "text": [
      "[I 2025-10-03 01:02:20,603] Trial 45 finished with value: 0.003129278024922538 and parameters: {'n_estimators': 240, 'max_depth': 9, 'learning_rate': 0.052322982754082877, 'subsample': 0.7690514321849852, 'colsample_bytree': 0.9501300013136201, 'reg_alpha': 2.5360432104565627, 'reg_lambda': 1.4151225104385083e-07}. Best is trial 44 with value: 0.0031290716145370946.\n"
     ]
    },
    {
     "name": "stderr",
     "output_type": "stream",
     "text": [
      "Best trial: 44. Best value: 0.00312907:  47%|█████████████████████████████████████████████████████████████                                                                     | 47/100 [33:35<13:25, 15.20s/it]"
     ]
    },
    {
     "name": "stdout",
     "output_type": "stream",
     "text": [
      "[I 2025-10-03 01:02:37,173] Trial 46 finished with value: 0.0031296104039166576 and parameters: {'n_estimators': 234, 'max_depth': 9, 'learning_rate': 0.04549412684010426, 'subsample': 0.7317524056845406, 'colsample_bytree': 0.9542198278703603, 'reg_alpha': 2.8124345418933707, 'reg_lambda': 2.1063894952923856e-07}. Best is trial 44 with value: 0.0031290716145370946.\n"
     ]
    },
    {
     "name": "stderr",
     "output_type": "stream",
     "text": [
      "Best trial: 44. Best value: 0.00312907:  48%|██████████████████████████████████████████████████████████████▍                                                                   | 48/100 [33:55<14:25, 16.64s/it]"
     ]
    },
    {
     "name": "stdout",
     "output_type": "stream",
     "text": [
      "[I 2025-10-03 01:02:57,175] Trial 47 finished with value: 0.003137635033266354 and parameters: {'n_estimators': 234, 'max_depth': 9, 'learning_rate': 0.08036348007178419, 'subsample': 0.7307640021759344, 'colsample_bytree': 0.9445334118042862, 'reg_alpha': 1.2833729658842317, 'reg_lambda': 1.0131043511463513e-08}. Best is trial 44 with value: 0.0031290716145370946.\n"
     ]
    },
    {
     "name": "stderr",
     "output_type": "stream",
     "text": [
      "Best trial: 44. Best value: 0.00312907:  49%|███████████████████████████████████████████████████████████████▋                                                                  | 49/100 [34:17<15:25, 18.14s/it]"
     ]
    },
    {
     "name": "stdout",
     "output_type": "stream",
     "text": [
      "[I 2025-10-03 01:03:18,824] Trial 48 finished with value: 0.0031339865718986123 and parameters: {'n_estimators': 326, 'max_depth': 11, 'learning_rate': 0.049511818428447346, 'subsample': 0.6913948719175982, 'colsample_bytree': 0.956031596641225, 'reg_alpha': 6.255056734759092, 'reg_lambda': 2.147442514137135e-07}. Best is trial 44 with value: 0.0031290716145370946.\n"
     ]
    },
    {
     "name": "stderr",
     "output_type": "stream",
     "text": [
      "Best trial: 44. Best value: 0.00312907:  50%|█████████████████████████████████████████████████████████████████                                                                 | 50/100 [34:47<18:08, 21.77s/it]"
     ]
    },
    {
     "name": "stdout",
     "output_type": "stream",
     "text": [
      "[I 2025-10-03 01:03:49,044] Trial 49 finished with value: 0.003323036349898266 and parameters: {'n_estimators': 245, 'max_depth': 10, 'learning_rate': 0.2577638351250807, 'subsample': 0.7539206531600411, 'colsample_bytree': 0.9829869932842717, 'reg_alpha': 0.5009740297789985, 'reg_lambda': 2.626290193782998e-06}. Best is trial 44 with value: 0.0031290716145370946.\n"
     ]
    },
    {
     "name": "stderr",
     "output_type": "stream",
     "text": [
      "Best trial: 44. Best value: 0.00312907:  51%|██████████████████████████████████████████████████████████████████▎                                                               | 51/100 [34:58<15:11, 18.59s/it]"
     ]
    },
    {
     "name": "stdout",
     "output_type": "stream",
     "text": [
      "[I 2025-10-03 01:04:00,239] Trial 50 finished with value: 0.0031397586408505205 and parameters: {'n_estimators': 158, 'max_depth': 9, 'learning_rate': 0.030895677706558187, 'subsample': 0.6838972019070912, 'colsample_bytree': 0.8541684698983233, 'reg_alpha': 2.2616211519890377, 'reg_lambda': 1.9647652306328669e-07}. Best is trial 44 with value: 0.0031290716145370946.\n"
     ]
    },
    {
     "name": "stderr",
     "output_type": "stream",
     "text": [
      "Best trial: 51. Best value: 0.00312862:  52%|███████████████████████████████████████████████████████████████████▌                                                              | 52/100 [35:14<14:10, 17.72s/it]"
     ]
    },
    {
     "name": "stdout",
     "output_type": "stream",
     "text": [
      "[I 2025-10-03 01:04:15,931] Trial 51 finished with value: 0.003128617026591558 and parameters: {'n_estimators': 224, 'max_depth': 9, 'learning_rate': 0.04175782941239012, 'subsample': 0.7798061415565349, 'colsample_bytree': 0.9659692179000215, 'reg_alpha': 2.4527327335867932, 'reg_lambda': 1.4278010697966022e-06}. Best is trial 51 with value: 0.003128617026591558.\n"
     ]
    },
    {
     "name": "stderr",
     "output_type": "stream",
     "text": [
      "Best trial: 51. Best value: 0.00312862:  53%|████████████████████████████████████████████████████████████████████▉                                                             | 53/100 [35:31<13:53, 17.74s/it]"
     ]
    },
    {
     "name": "stdout",
     "output_type": "stream",
     "text": [
      "[I 2025-10-03 01:04:33,696] Trial 52 finished with value: 0.003129485605369621 and parameters: {'n_estimators': 272, 'max_depth': 9, 'learning_rate': 0.04222322920893199, 'subsample': 0.7675785998469125, 'colsample_bytree': 0.9731054471192986, 'reg_alpha': 3.1397422362359393, 'reg_lambda': 2.2449996320753637e-08}. Best is trial 51 with value: 0.003128617026591558.\n"
     ]
    },
    {
     "name": "stderr",
     "output_type": "stream",
     "text": [
      "Best trial: 51. Best value: 0.00312862:  54%|██████████████████████████████████████████████████████████████████████▏                                                           | 54/100 [35:52<14:11, 18.51s/it]"
     ]
    },
    {
     "name": "stdout",
     "output_type": "stream",
     "text": [
      "[I 2025-10-03 01:04:54,003] Trial 53 finished with value: 0.0031302313205916676 and parameters: {'n_estimators': 273, 'max_depth': 10, 'learning_rate': 0.05339329747811401, 'subsample': 0.7711486502176708, 'colsample_bytree': 0.9709158741850312, 'reg_alpha': 3.2754479783135793, 'reg_lambda': 3.919645301981585e-08}. Best is trial 51 with value: 0.003128617026591558.\n"
     ]
    },
    {
     "name": "stderr",
     "output_type": "stream",
     "text": [
      "Best trial: 51. Best value: 0.00312862:  55%|███████████████████████████████████████████████████████████████████████▌                                                          | 55/100 [36:20<16:01, 21.37s/it]"
     ]
    },
    {
     "name": "stdout",
     "output_type": "stream",
     "text": [
      "[I 2025-10-03 01:05:22,044] Trial 54 finished with value: 0.0031402102727387743 and parameters: {'n_estimators': 340, 'max_depth': 9, 'learning_rate': 0.03667830109356442, 'subsample': 0.7034617135808847, 'colsample_bytree': 0.9489298576984782, 'reg_alpha': 0.2700055269929897, 'reg_lambda': 1.4119077797745518e-07}. Best is trial 51 with value: 0.003128617026591558.\n"
     ]
    },
    {
     "name": "stderr",
     "output_type": "stream",
     "text": [
      "Best trial: 51. Best value: 0.00312862:  56%|████████████████████████████████████████████████████████████████████████▊                                                         | 56/100 [36:51<17:49, 24.31s/it]"
     ]
    },
    {
     "name": "stdout",
     "output_type": "stream",
     "text": [
      "[I 2025-10-03 01:05:53,223] Trial 55 finished with value: 0.003154640994777168 and parameters: {'n_estimators': 229, 'max_depth': 11, 'learning_rate': 0.07361289305621234, 'subsample': 0.736263300557988, 'colsample_bytree': 0.9982326242543534, 'reg_alpha': 0.9239382661616485, 'reg_lambda': 2.424826131928478e-08}. Best is trial 51 with value: 0.003128617026591558.\n"
     ]
    },
    {
     "name": "stderr",
     "output_type": "stream",
     "text": [
      "Best trial: 51. Best value: 0.00312862:  57%|██████████████████████████████████████████████████████████████████████████                                                        | 57/100 [37:20<18:30, 25.82s/it]"
     ]
    },
    {
     "name": "stdout",
     "output_type": "stream",
     "text": [
      "[I 2025-10-03 01:06:22,556] Trial 56 finished with value: 0.0031557349467593795 and parameters: {'n_estimators': 299, 'max_depth': 10, 'learning_rate': 0.11186511736985148, 'subsample': 0.7991850656048103, 'colsample_bytree': 0.9240373323566753, 'reg_alpha': 1.6257581474697496, 'reg_lambda': 2.299157140435056e-06}. Best is trial 51 with value: 0.003128617026591558.\n"
     ]
    },
    {
     "name": "stderr",
     "output_type": "stream",
     "text": [
      "Best trial: 51. Best value: 0.00312862:  58%|███████████████████████████████████████████████████████████████████████████▍                                                      | 58/100 [37:43<17:20, 24.79s/it]"
     ]
    },
    {
     "name": "stdout",
     "output_type": "stream",
     "text": [
      "[I 2025-10-03 01:06:44,933] Trial 57 finished with value: 0.003131648574855371 and parameters: {'n_estimators': 380, 'max_depth': 9, 'learning_rate': 0.032221079134885915, 'subsample': 0.8334771672935822, 'colsample_bytree': 0.9685274192276355, 'reg_alpha': 5.347050484291909, 'reg_lambda': 1.1746514348013512e-06}. Best is trial 51 with value: 0.003128617026591558.\n"
     ]
    },
    {
     "name": "stderr",
     "output_type": "stream",
     "text": [
      "Best trial: 51. Best value: 0.00312862:  59%|████████████████████████████████████████████████████████████████████████████▋                                                     | 59/100 [38:05<16:20, 23.90s/it]"
     ]
    },
    {
     "name": "stdout",
     "output_type": "stream",
     "text": [
      "[I 2025-10-03 01:07:06,782] Trial 58 finished with value: 0.0031319188776117992 and parameters: {'n_estimators': 255, 'max_depth': 9, 'learning_rate': 0.03975026820252479, 'subsample': 0.6443540641921779, 'colsample_bytree': 0.8990595292536072, 'reg_alpha': 0.580609578404307, 'reg_lambda': 1.1149164566468933e-07}. Best is trial 51 with value: 0.003128617026591558.\n"
     ]
    },
    {
     "name": "stderr",
     "output_type": "stream",
     "text": [
      "Best trial: 51. Best value: 0.00312862:  60%|██████████████████████████████████████████████████████████████████████████████                                                    | 60/100 [38:21<14:24, 21.61s/it]"
     ]
    },
    {
     "name": "stdout",
     "output_type": "stream",
     "text": [
      "[I 2025-10-03 01:07:23,027] Trial 59 finished with value: 0.003143710692068516 and parameters: {'n_estimators': 282, 'max_depth': 10, 'learning_rate': 0.024251214151469594, 'subsample': 0.7655152290799345, 'colsample_bytree': 0.9360943263147351, 'reg_alpha': 9.724614449916919, 'reg_lambda': 3.340369538466352e-07}. Best is trial 51 with value: 0.003128617026591558.\n"
     ]
    },
    {
     "name": "stderr",
     "output_type": "stream",
     "text": [
      "Best trial: 51. Best value: 0.00312862:  61%|███████████████████████████████████████████████████████████████████████████████▎                                                  | 61/100 [38:40<13:36, 20.94s/it]"
     ]
    },
    {
     "name": "stdout",
     "output_type": "stream",
     "text": [
      "[I 2025-10-03 01:07:42,423] Trial 60 finished with value: 0.0031401027943174795 and parameters: {'n_estimators': 214, 'max_depth': 9, 'learning_rate': 0.051528594699883044, 'subsample': 0.7473926267163329, 'colsample_bytree': 0.9745295168676016, 'reg_alpha': 0.2385887220910053, 'reg_lambda': 2.7943702813674596e-08}. Best is trial 51 with value: 0.003128617026591558.\n"
     ]
    },
    {
     "name": "stderr",
     "output_type": "stream",
     "text": [
      "Best trial: 51. Best value: 0.00312862:  62%|████████████████████████████████████████████████████████████████████████████████▌                                                 | 62/100 [38:49<10:55, 17.24s/it]"
     ]
    },
    {
     "name": "stdout",
     "output_type": "stream",
     "text": [
      "[I 2025-10-03 01:07:51,024] Trial 61 finished with value: 0.0031301408054103695 and parameters: {'n_estimators': 145, 'max_depth': 7, 'learning_rate': 0.04620952089279317, 'subsample': 0.713955186046017, 'colsample_bytree': 0.9538076368109432, 'reg_alpha': 0.8159853190432204, 'reg_lambda': 1.618618598953697e-08}. Best is trial 51 with value: 0.003128617026591558.\n"
     ]
    },
    {
     "name": "stderr",
     "output_type": "stream",
     "text": [
      "Best trial: 51. Best value: 0.00312862:  63%|█████████████████████████████████████████████████████████████████████████████████▉                                                | 63/100 [38:58<09:09, 14.85s/it]"
     ]
    },
    {
     "name": "stdout",
     "output_type": "stream",
     "text": [
      "[I 2025-10-03 01:08:00,303] Trial 62 finished with value: 0.003131254126783949 and parameters: {'n_estimators': 163, 'max_depth': 7, 'learning_rate': 0.06752601611202316, 'subsample': 0.8520963022912718, 'colsample_bytree': 0.9995196501592085, 'reg_alpha': 0.03596066161684056, 'reg_lambda': 8.190798404059849e-08}. Best is trial 51 with value: 0.003128617026591558.\n"
     ]
    },
    {
     "name": "stderr",
     "output_type": "stream",
     "text": [
      "Best trial: 51. Best value: 0.00312862:  64%|███████████████████████████████████████████████████████████████████████████████████▏                                              | 64/100 [39:19<09:59, 16.65s/it]"
     ]
    },
    {
     "name": "stdout",
     "output_type": "stream",
     "text": [
      "[I 2025-10-03 01:08:21,163] Trial 63 finished with value: 0.0031291730582848364 and parameters: {'n_estimators': 309, 'max_depth': 9, 'learning_rate': 0.038951137157156965, 'subsample': 0.7980463533036717, 'colsample_bytree': 0.9171165530364104, 'reg_alpha': 2.9980825110238922, 'reg_lambda': 3.6661589074753924e-07}. Best is trial 51 with value: 0.003128617026591558.\n"
     ]
    },
    {
     "name": "stderr",
     "output_type": "stream",
     "text": [
      "Best trial: 51. Best value: 0.00312862:  65%|████████████████████████████████████████████████████████████████████████████████████▌                                             | 65/100 [39:40<10:29, 18.00s/it]"
     ]
    },
    {
     "name": "stdout",
     "output_type": "stream",
     "text": [
      "[I 2025-10-03 01:08:42,289] Trial 64 finished with value: 0.0031305913194920204 and parameters: {'n_estimators': 317, 'max_depth': 9, 'learning_rate': 0.03481091824573955, 'subsample': 0.7906838751180262, 'colsample_bytree': 0.9100159495841212, 'reg_alpha': 4.259015049707003, 'reg_lambda': 4.1573538355221585e-07}. Best is trial 51 with value: 0.003128617026591558.\n"
     ]
    },
    {
     "name": "stderr",
     "output_type": "stream",
     "text": [
      "Best trial: 51. Best value: 0.00312862:  66%|█████████████████████████████████████████████████████████████████████████████████████▊                                            | 66/100 [40:13<12:49, 22.62s/it]"
     ]
    },
    {
     "name": "stdout",
     "output_type": "stream",
     "text": [
      "[I 2025-10-03 01:09:15,711] Trial 65 finished with value: 0.0031288364501707343 and parameters: {'n_estimators': 359, 'max_depth': 10, 'learning_rate': 0.027225837620777016, 'subsample': 0.8245866984183741, 'colsample_bytree': 0.9779061730024398, 'reg_alpha': 1.5946231781985125, 'reg_lambda': 1.2978215737803123e-06}. Best is trial 51 with value: 0.003128617026591558.\n"
     ]
    },
    {
     "name": "stderr",
     "output_type": "stream",
     "text": [
      "Best trial: 66. Best value: 0.0031286:  67%|███████████████████████████████████████████████████████████████████████████████████████▊                                           | 67/100 [40:48<14:21, 26.10s/it]"
     ]
    },
    {
     "name": "stdout",
     "output_type": "stream",
     "text": [
      "[I 2025-10-03 01:09:49,909] Trial 66 finished with value: 0.0031286034572895775 and parameters: {'n_estimators': 364, 'max_depth': 10, 'learning_rate': 0.023761588758821554, 'subsample': 0.8231509671620449, 'colsample_bytree': 0.9773475584036441, 'reg_alpha': 1.4257613181343833, 'reg_lambda': 7.531220774356107e-06}. Best is trial 66 with value: 0.0031286034572895775.\n"
     ]
    },
    {
     "name": "stderr",
     "output_type": "stream",
     "text": [
      "Best trial: 67. Best value: 0.00312845:  68%|████████████████████████████████████████████████████████████████████████████████████████▍                                         | 68/100 [41:28<16:14, 30.45s/it]"
     ]
    },
    {
     "name": "stdout",
     "output_type": "stream",
     "text": [
      "[I 2025-10-03 01:10:30,505] Trial 67 finished with value: 0.0031284486679146184 and parameters: {'n_estimators': 370, 'max_depth': 11, 'learning_rate': 0.022366261165197368, 'subsample': 0.8243680761681702, 'colsample_bytree': 0.9317411962160409, 'reg_alpha': 1.445760419797469, 'reg_lambda': 7.876349025967001e-06}. Best is trial 67 with value: 0.0031284486679146184.\n"
     ]
    },
    {
     "name": "stderr",
     "output_type": "stream",
     "text": [
      "Best trial: 67. Best value: 0.00312845:  69%|█████████████████████████████████████████████████████████████████████████████████████████▋                                        | 69/100 [42:41<22:14, 43.05s/it]"
     ]
    },
    {
     "name": "stdout",
     "output_type": "stream",
     "text": [
      "[I 2025-10-03 01:11:42,951] Trial 68 finished with value: 0.0031395153606045114 and parameters: {'n_estimators': 476, 'max_depth': 11, 'learning_rate': 0.015347131205644604, 'subsample': 0.8323398294260776, 'colsample_bytree': 0.9210338225511673, 'reg_alpha': 0.4711750147650871, 'reg_lambda': 8.433228291919291e-06}. Best is trial 67 with value: 0.0031284486679146184.\n"
     ]
    },
    {
     "name": "stderr",
     "output_type": "stream",
     "text": [
      "Best trial: 67. Best value: 0.00312845:  70%|███████████████████████████████████████████████████████████████████████████████████████████                                       | 70/100 [43:37<23:29, 47.00s/it]"
     ]
    },
    {
     "name": "stdout",
     "output_type": "stream",
     "text": [
      "[I 2025-10-03 01:12:39,169] Trial 69 finished with value: 0.0031342179512620846 and parameters: {'n_estimators': 375, 'max_depth': 12, 'learning_rate': 0.025865108119115566, 'subsample': 0.8637209620374818, 'colsample_bytree': 0.981532015206253, 'reg_alpha': 1.1881509862101074, 'reg_lambda': 2.0664582083510397e-05}. Best is trial 67 with value: 0.0031284486679146184.\n"
     ]
    },
    {
     "name": "stderr",
     "output_type": "stream",
     "text": [
      "Best trial: 67. Best value: 0.00312845:  71%|████████████████████████████████████████████████████████████████████████████████████████████▎                                     | 71/100 [45:08<29:07, 60.25s/it]"
     ]
    },
    {
     "name": "stdout",
     "output_type": "stream",
     "text": [
      "[I 2025-10-03 01:14:10,331] Trial 70 finished with value: 0.0032221681578297424 and parameters: {'n_estimators': 403, 'max_depth': 11, 'learning_rate': 0.028901988111843677, 'subsample': 0.8186055094774269, 'colsample_bytree': 0.9347716146796023, 'reg_alpha': 1.3317554142389551e-08, 'reg_lambda': 1.1874112643818004e-06}. Best is trial 67 with value: 0.0031284486679146184.\n"
     ]
    },
    {
     "name": "stderr",
     "output_type": "stream",
     "text": [
      "Best trial: 67. Best value: 0.00312845:  72%|█████████████████████████████████████████████████████████████████████████████████████████████▌                                    | 72/100 [46:16<29:09, 62.48s/it]"
     ]
    },
    {
     "name": "stdout",
     "output_type": "stream",
     "text": [
      "[I 2025-10-03 01:15:18,035] Trial 71 finished with value: 0.00315366065820352 and parameters: {'n_estimators': 530, 'max_depth': 10, 'learning_rate': 0.022007008164465918, 'subsample': 0.8062201262285145, 'colsample_bytree': 0.945941660155928, 'reg_alpha': 0.19141307287609724, 'reg_lambda': 3.0837431701635717e-06}. Best is trial 67 with value: 0.0031284486679146184.\n"
     ]
    },
    {
     "name": "stderr",
     "output_type": "stream",
     "text": [
      "Best trial: 72. Best value: 0.00312815:  73%|██████████████████████████████████████████████████████████████████████████████████████████████▉                                   | 73/100 [46:46<23:45, 52.81s/it]"
     ]
    },
    {
     "name": "stdout",
     "output_type": "stream",
     "text": [
      "[I 2025-10-03 01:15:48,286] Trial 72 finished with value: 0.0031281512325939593 and parameters: {'n_estimators': 361, 'max_depth': 10, 'learning_rate': 0.021046875393652575, 'subsample': 0.8479814919770995, 'colsample_bytree': 0.8986323862601935, 'reg_alpha': 1.81617112000102, 'reg_lambda': 7.066150397009161e-06}. Best is trial 72 with value: 0.0031281512325939593.\n"
     ]
    },
    {
     "name": "stderr",
     "output_type": "stream",
     "text": [
      "Best trial: 72. Best value: 0.00312815:  74%|████████████████████████████████████████████████████████████████████████████████████████████████▏                                 | 74/100 [47:18<20:08, 46.50s/it]"
     ]
    },
    {
     "name": "stdout",
     "output_type": "stream",
     "text": [
      "[I 2025-10-03 01:16:20,036] Trial 73 finished with value: 0.0031281969920475957 and parameters: {'n_estimators': 356, 'max_depth': 10, 'learning_rate': 0.024544284554095054, 'subsample': 0.8680258435024852, 'colsample_bytree': 0.8340677445489085, 'reg_alpha': 1.4579009364656499, 'reg_lambda': 5.362476911228749e-06}. Best is trial 72 with value: 0.0031281512325939593.\n"
     ]
    },
    {
     "name": "stderr",
     "output_type": "stream",
     "text": [
      "Best trial: 72. Best value: 0.00312815:  75%|█████████████████████████████████████████████████████████████████████████████████████████████████▌                                | 75/100 [47:46<17:04, 40.97s/it]"
     ]
    },
    {
     "name": "stdout",
     "output_type": "stream",
     "text": [
      "[I 2025-10-03 01:16:48,113] Trial 74 finished with value: 0.0031336279209370965 and parameters: {'n_estimators': 458, 'max_depth': 11, 'learning_rate': 0.026697235923379123, 'subsample': 0.8426277333508212, 'colsample_bytree': 0.8280213886861993, 'reg_alpha': 6.29761236286542, 'reg_lambda': 6.492163405458237e-06}. Best is trial 72 with value: 0.0031281512325939593.\n"
     ]
    },
    {
     "name": "stderr",
     "output_type": "stream",
     "text": [
      "Best trial: 72. Best value: 0.00312815:  76%|██████████████████████████████████████████████████████████████████████████████████████████████████▊                               | 76/100 [48:21<15:44, 39.37s/it]"
     ]
    },
    {
     "name": "stdout",
     "output_type": "stream",
     "text": [
      "[I 2025-10-03 01:17:23,762] Trial 75 finished with value: 0.003128705541929279 and parameters: {'n_estimators': 370, 'max_depth': 10, 'learning_rate': 0.024105209267252615, 'subsample': 0.8274840242792814, 'colsample_bytree': 0.8920452306737199, 'reg_alpha': 1.2652905499011184, 'reg_lambda': 1.7730121423065529e-06}. Best is trial 72 with value: 0.0031281512325939593.\n"
     ]
    },
    {
     "name": "stderr",
     "output_type": "stream",
     "text": [
      "Best trial: 72. Best value: 0.00312815:  77%|████████████████████████████████████████████████████████████████████████████████████████████████████                              | 77/100 [49:05<15:30, 40.48s/it]"
     ]
    },
    {
     "name": "stdout",
     "output_type": "stream",
     "text": [
      "[I 2025-10-03 01:18:06,817] Trial 76 finished with value: 0.0031354267584518215 and parameters: {'n_estimators': 365, 'max_depth': 10, 'learning_rate': 0.023671746985014747, 'subsample': 0.8208816247085834, 'colsample_bytree': 0.8917783283477793, 'reg_alpha': 0.467538065659087, 'reg_lambda': 1.622054734851548e-06}. Best is trial 72 with value: 0.0031281512325939593.\n"
     ]
    },
    {
     "name": "stderr",
     "output_type": "stream",
     "text": [
      "Best trial: 77. Best value: 0.00312802:  78%|█████████████████████████████████████████████████████████████████████████████████████████████████████▍                            | 78/100 [49:40<14:16, 38.95s/it]"
     ]
    },
    {
     "name": "stdout",
     "output_type": "stream",
     "text": [
      "[I 2025-10-03 01:18:42,215] Trial 77 finished with value: 0.003128024619592921 and parameters: {'n_estimators': 397, 'max_depth': 10, 'learning_rate': 0.021539536684396895, 'subsample': 0.8505238959081897, 'colsample_bytree': 0.863933806939917, 'reg_alpha': 1.571080728523751, 'reg_lambda': 3.1988203796018214e-05}. Best is trial 77 with value: 0.003128024619592921.\n"
     ]
    },
    {
     "name": "stderr",
     "output_type": "stream",
     "text": [
      "Best trial: 77. Best value: 0.00312802:  79%|██████████████████████████████████████████████████████████████████████████████████████████████████████▋                           | 79/100 [50:27<14:28, 41.33s/it]"
     ]
    },
    {
     "name": "stdout",
     "output_type": "stream",
     "text": [
      "[I 2025-10-03 01:19:29,104] Trial 78 finished with value: 0.003128989012775858 and parameters: {'n_estimators': 416, 'max_depth': 11, 'learning_rate': 0.020973740091552114, 'subsample': 0.8594661381782682, 'colsample_bytree': 0.8569629848723777, 'reg_alpha': 1.3698572191428446, 'reg_lambda': 4.014656985760226e-05}. Best is trial 77 with value: 0.003128024619592921.\n"
     ]
    },
    {
     "name": "stderr",
     "output_type": "stream",
     "text": [
      "Best trial: 77. Best value: 0.00312802:  80%|████████████████████████████████████████████████████████████████████████████████████████████████████████                          | 80/100 [51:35<16:25, 49.28s/it]"
     ]
    },
    {
     "name": "stdout",
     "output_type": "stream",
     "text": [
      "[I 2025-10-03 01:20:36,924] Trial 79 finished with value: 0.0031450012867971686 and parameters: {'n_estimators': 543, 'max_depth': 10, 'learning_rate': 0.015753224647214487, 'subsample': 0.8261540881197216, 'colsample_bytree': 0.8657201722978591, 'reg_alpha': 0.1556450012576364, 'reg_lambda': 1.2676712508420173e-05}. Best is trial 77 with value: 0.003128024619592921.\n"
     ]
    },
    {
     "name": "stderr",
     "output_type": "stream",
     "text": [
      "Best trial: 77. Best value: 0.00312802:  81%|█████████████████████████████████████████████████████████████████████████████████████████████████████████▎                        | 81/100 [52:58<18:47, 59.36s/it]"
     ]
    },
    {
     "name": "stdout",
     "output_type": "stream",
     "text": [
      "[I 2025-10-03 01:21:59,812] Trial 80 finished with value: 0.0031330791710064776 and parameters: {'n_estimators': 508, 'max_depth': 12, 'learning_rate': 0.011402122300029217, 'subsample': 0.8469770615268852, 'colsample_bytree': 0.839742927025446, 'reg_alpha': 0.6912871435868442, 'reg_lambda': 4.274782056110808e-06}. Best is trial 77 with value: 0.003128024619592921.\n"
     ]
    },
    {
     "name": "stderr",
     "output_type": "stream",
     "text": [
      "Best trial: 77. Best value: 0.00312802:  82%|██████████████████████████████████████████████████████████████████████████████████████████████████████████▌                       | 82/100 [53:44<16:39, 55.54s/it]"
     ]
    },
    {
     "name": "stdout",
     "output_type": "stream",
     "text": [
      "[I 2025-10-03 01:22:46,428] Trial 81 finished with value: 0.003128982184702951 and parameters: {'n_estimators': 415, 'max_depth': 11, 'learning_rate': 0.0210075221213811, 'subsample': 0.8640112019565167, 'colsample_bytree': 0.8634475205288361, 'reg_alpha': 1.4147574473341766, 'reg_lambda': 3.609201977276514e-05}. Best is trial 77 with value: 0.003128024619592921.\n"
     ]
    },
    {
     "name": "stderr",
     "output_type": "stream",
     "text": [
      "Best trial: 77. Best value: 0.00312802:  83%|███████████████████████████████████████████████████████████████████████████████████████████████████████████▉                      | 83/100 [54:34<15:13, 53.73s/it]"
     ]
    },
    {
     "name": "stdout",
     "output_type": "stream",
     "text": [
      "[I 2025-10-03 01:23:35,929] Trial 82 finished with value: 0.0031292830695310962 and parameters: {'n_estimators': 440, 'max_depth': 11, 'learning_rate': 0.02157580336094138, 'subsample': 0.876463030112481, 'colsample_bytree': 0.8098411333894513, 'reg_alpha': 1.3730375188011428, 'reg_lambda': 2.6574974111185063e-05}. Best is trial 77 with value: 0.003128024619592921.\n"
     ]
    },
    {
     "name": "stderr",
     "output_type": "stream",
     "text": [
      "Best trial: 77. Best value: 0.00312802:  84%|█████████████████████████████████████████████████████████████████████████████████████████████████████████████▏                    | 84/100 [55:14<13:14, 49.64s/it]"
     ]
    },
    {
     "name": "stdout",
     "output_type": "stream",
     "text": [
      "[I 2025-10-03 01:24:16,027] Trial 83 finished with value: 0.0031367988400712817 and parameters: {'n_estimators': 341, 'max_depth': 10, 'learning_rate': 0.024598625340699447, 'subsample': 0.8662065935547323, 'colsample_bytree': 0.8704380848022014, 'reg_alpha': 0.3838025596851118, 'reg_lambda': 8.26462133743667e-06}. Best is trial 77 with value: 0.003128024619592921.\n"
     ]
    },
    {
     "name": "stderr",
     "output_type": "stream",
     "text": [
      "Best trial: 77. Best value: 0.00312802:  85%|██████████████████████████████████████████████████████████████████████████████████████████████████████████████▌                   | 85/100 [55:40<10:37, 42.48s/it]"
     ]
    },
    {
     "name": "stdout",
     "output_type": "stream",
     "text": [
      "[I 2025-10-03 01:24:41,818] Trial 84 finished with value: 0.0031338075751333335 and parameters: {'n_estimators': 390, 'max_depth': 11, 'learning_rate': 0.028244985493156252, 'subsample': 0.8094082441223884, 'colsample_bytree': 0.8916991310117424, 'reg_alpha': 6.530582415832849, 'reg_lambda': 0.00010111464024810882}. Best is trial 77 with value: 0.003128024619592921.\n"
     ]
    },
    {
     "name": "stderr",
     "output_type": "stream",
     "text": [
      "Best trial: 77. Best value: 0.00312802:  86%|███████████████████████████████████████████████████████████████████████████████████████████████████████████████▊                  | 86/100 [56:19<09:44, 41.72s/it]"
     ]
    },
    {
     "name": "stdout",
     "output_type": "stream",
     "text": [
      "[I 2025-10-03 01:25:21,761] Trial 85 finished with value: 0.0031312114785172042 and parameters: {'n_estimators': 465, 'max_depth': 10, 'learning_rate': 0.032381771042989886, 'subsample': 0.8417209007282607, 'colsample_bytree': 0.7712992377475173, 'reg_alpha': 1.9083765590721664, 'reg_lambda': 1.3632565745554173e-05}. Best is trial 77 with value: 0.003128024619592921.\n"
     ]
    },
    {
     "name": "stderr",
     "output_type": "stream",
     "text": [
      "Best trial: 77. Best value: 0.00312802:  87%|█████████████████████████████████████████████████████████████████████████████████████████████████████████████████                 | 87/100 [57:59<12:48, 59.10s/it]"
     ]
    },
    {
     "name": "stdout",
     "output_type": "stream",
     "text": [
      "[I 2025-10-03 01:27:01,421] Trial 86 finished with value: 0.003160911899190208 and parameters: {'n_estimators': 575, 'max_depth': 10, 'learning_rate': 0.017371782505717817, 'subsample': 0.8510940928412464, 'colsample_bytree': 0.8097067087841772, 'reg_alpha': 1.1301243016213319e-07, 'reg_lambda': 1.8065145538411585e-06}. Best is trial 77 with value: 0.003128024619592921.\n"
     ]
    },
    {
     "name": "stderr",
     "output_type": "stream",
     "text": [
      "Best trial: 77. Best value: 0.00312802:  88%|██████████████████████████████████████████████████████████████████████████████████████████████████████████████████▍               | 88/100 [58:53<11:29, 57.45s/it]"
     ]
    },
    {
     "name": "stdout",
     "output_type": "stream",
     "text": [
      "[I 2025-10-03 01:27:55,017] Trial 87 finished with value: 0.003131985944219609 and parameters: {'n_estimators': 413, 'max_depth': 11, 'learning_rate': 0.019400278510609967, 'subsample': 0.8826795249107963, 'colsample_bytree': 0.8383037784743835, 'reg_alpha': 0.819908915055452, 'reg_lambda': 8.819405729100584e-07}. Best is trial 77 with value: 0.003128024619592921.\n"
     ]
    },
    {
     "name": "stderr",
     "output_type": "stream",
     "text": [
      "Best trial: 77. Best value: 0.00312802:  89%|███████████████████████████████████████████████████████████████████████████████████████████████████████████████████▋              | 89/100 [59:13<08:29, 46.35s/it]"
     ]
    },
    {
     "name": "stdout",
     "output_type": "stream",
     "text": [
      "[I 2025-10-03 01:28:15,463] Trial 88 finished with value: 0.003138875024558142 and parameters: {'n_estimators': 360, 'max_depth': 12, 'learning_rate': 0.02556125165380869, 'subsample': 0.8281497384456113, 'colsample_bytree': 0.897984130342939, 'reg_alpha': 9.529335063622224, 'reg_lambda': 4.3325970876784725e-06}. Best is trial 77 with value: 0.003128024619592921.\n"
     ]
    },
    {
     "name": "stderr",
     "output_type": "stream",
     "text": [
      "Best trial: 77. Best value: 0.00312802:  90%|█████████████████████████████████████████████████████████████████████████████████████████████████████████████████████             | 90/100 [59:58<07:38, 45.80s/it]"
     ]
    },
    {
     "name": "stdout",
     "output_type": "stream",
     "text": [
      "[I 2025-10-03 01:28:59,992] Trial 89 finished with value: 0.0031501793423401557 and parameters: {'n_estimators': 329, 'max_depth': 10, 'learning_rate': 0.020648526855280076, 'subsample': 0.8986687601245561, 'colsample_bytree': 0.8500240988827666, 'reg_alpha': 0.02881655025466357, 'reg_lambda': 7.585923085960526e-05}. Best is trial 77 with value: 0.003128024619592921.\n"
     ]
    },
    {
     "name": "stderr",
     "output_type": "stream",
     "text": [
      "Best trial: 77. Best value: 0.00312802:  91%|████████████████████████████████████████████████████████████████████████████████████████████████████████████████████▍           | 91/100 [1:01:08<07:59, 53.27s/it]"
     ]
    },
    {
     "name": "stdout",
     "output_type": "stream",
     "text": [
      "[I 2025-10-03 01:30:10,688] Trial 90 finished with value: 0.0031635299362416194 and parameters: {'n_estimators': 395, 'max_depth': 11, 'learning_rate': 0.02313039089862519, 'subsample': 0.9183879859495337, 'colsample_bytree': 0.8230103890608756, 'reg_alpha': 0.1598050298570748, 'reg_lambda': 3.5893634049116775e-05}. Best is trial 77 with value: 0.003128024619592921.\n"
     ]
    },
    {
     "name": "stderr",
     "output_type": "stream",
     "text": [
      "Best trial: 77. Best value: 0.00312802:  92%|█████████████████████████████████████████████████████████████████████████████████████████████████████████████████████▊          | 92/100 [1:01:58<06:56, 52.12s/it]"
     ]
    },
    {
     "name": "stdout",
     "output_type": "stream",
     "text": [
      "[I 2025-10-03 01:31:00,105] Trial 91 finished with value: 0.0031289278390831446 and parameters: {'n_estimators': 424, 'max_depth': 11, 'learning_rate': 0.021950565789229506, 'subsample': 0.8598090037280397, 'colsample_bytree': 0.8572693508134213, 'reg_alpha': 1.5700573924629784, 'reg_lambda': 3.4390123738855785e-05}. Best is trial 77 with value: 0.003128024619592921.\n"
     ]
    },
    {
     "name": "stderr",
     "output_type": "stream",
     "text": [
      "Best trial: 77. Best value: 0.00312802:  93%|███████████████████████████████████████████████████████████████████████████████████████████████████████████████████████         | 93/100 [1:02:21<05:03, 43.35s/it]"
     ]
    },
    {
     "name": "stdout",
     "output_type": "stream",
     "text": [
      "[I 2025-10-03 01:31:22,991] Trial 92 finished with value: 0.003139555955112136 and parameters: {'n_estimators': 298, 'max_depth': 11, 'learning_rate': 0.01828840894484995, 'subsample': 0.8149205016324284, 'colsample_bytree': 0.8732278186050654, 'reg_alpha': 4.590401343518509, 'reg_lambda': 1.5065007612549973e-05}. Best is trial 77 with value: 0.003128024619592921.\n"
     ]
    },
    {
     "name": "stderr",
     "output_type": "stream",
     "text": [
      "Best trial: 77. Best value: 0.00312802:  94%|████████████████████████████████████████████████████████████████████████████████████████████████████████████████████████▎       | 94/100 [1:02:58<04:08, 41.42s/it]"
     ]
    },
    {
     "name": "stdout",
     "output_type": "stream",
     "text": [
      "[I 2025-10-03 01:31:59,928] Trial 93 finished with value: 0.0031299058842310266 and parameters: {'n_estimators': 431, 'max_depth': 10, 'learning_rate': 0.029195152265971393, 'subsample': 0.8620552045351499, 'colsample_bytree': 0.8667792979330831, 'reg_alpha': 1.90546782211069, 'reg_lambda': 0.00012429841613227201}. Best is trial 77 with value: 0.003128024619592921.\n"
     ]
    },
    {
     "name": "stderr",
     "output_type": "stream",
     "text": [
      "Best trial: 77. Best value: 0.00312802:  95%|█████████████████████████████████████████████████████████████████████████████████████████████████████████████████████████▌      | 95/100 [1:03:31<03:15, 39.04s/it]"
     ]
    },
    {
     "name": "stdout",
     "output_type": "stream",
     "text": [
      "[I 2025-10-03 01:32:33,397] Trial 94 finished with value: 0.0031328888418144436 and parameters: {'n_estimators': 373, 'max_depth': 10, 'learning_rate': 0.014730253955133242, 'subsample': 0.7964475076613678, 'colsample_bytree': 0.7963960086026367, 'reg_alpha': 0.8380412004524264, 'reg_lambda': 7.453428453338036e-06}. Best is trial 77 with value: 0.003128024619592921.\n"
     ]
    },
    {
     "name": "stderr",
     "output_type": "stream",
     "text": [
      "Best trial: 77. Best value: 0.00312802:  96%|██████████████████████████████████████████████████████████████████████████████████████████████████████████████████████████▉     | 96/100 [1:04:04<02:29, 37.32s/it]"
     ]
    },
    {
     "name": "stdout",
     "output_type": "stream",
     "text": [
      "[I 2025-10-03 01:33:06,705] Trial 95 finished with value: 0.0031417860921352887 and parameters: {'n_estimators': 486, 'max_depth': 11, 'learning_rate': 0.01702237183265755, 'subsample': 0.8760579871945673, 'colsample_bytree': 0.5305679783650767, 'reg_alpha': 1.605345434314634, 'reg_lambda': 2.4936229318382872e-05}. Best is trial 77 with value: 0.003128024619592921.\n"
     ]
    },
    {
     "name": "stderr",
     "output_type": "stream",
     "text": [
      "Best trial: 77. Best value: 0.00312802:  97%|████████████████████████████████████████████████████████████████████████████████████████████████████████████████████████████▏   | 97/100 [1:04:31<01:41, 33.97s/it]"
     ]
    },
    {
     "name": "stdout",
     "output_type": "stream",
     "text": [
      "[I 2025-10-03 01:33:32,875] Trial 96 finished with value: 0.003131059103834314 and parameters: {'n_estimators': 347, 'max_depth': 12, 'learning_rate': 0.02179431950396072, 'subsample': 0.8362029610220508, 'colsample_bytree': 0.9081284497073496, 'reg_alpha': 4.053922908395385, 'reg_lambda': 0.0004170655817813509}. Best is trial 77 with value: 0.003128024619592921.\n"
     ]
    },
    {
     "name": "stderr",
     "output_type": "stream",
     "text": [
      "Best trial: 77. Best value: 0.00312802:  98%|█████████████████████████████████████████████████████████████████████████████████████████████████████████████████████████████▍  | 98/100 [1:05:22<01:18, 39.26s/it]"
     ]
    },
    {
     "name": "stdout",
     "output_type": "stream",
     "text": [
      "[I 2025-10-03 01:34:24,482] Trial 97 finished with value: 0.0031425586726918525 and parameters: {'n_estimators': 453, 'max_depth': 10, 'learning_rate': 0.02289010175346522, 'subsample': 0.8849653790720836, 'colsample_bytree': 0.9315851234546407, 'reg_alpha': 0.34990597226451414, 'reg_lambda': 3.4998519292145244e-06}. Best is trial 77 with value: 0.003128024619592921.\n"
     ]
    },
    {
     "name": "stderr",
     "output_type": "stream",
     "text": [
      "Best trial: 77. Best value: 0.00312802:  99%|██████████████████████████████████████████████████████████████████████████████████████████████████████████████████████████████▋ | 99/100 [1:06:16<00:43, 43.63s/it]"
     ]
    },
    {
     "name": "stdout",
     "output_type": "stream",
     "text": [
      "[I 2025-10-03 01:35:18,286] Trial 98 finished with value: 0.0031436634250889112 and parameters: {'n_estimators': 405, 'max_depth': 11, 'learning_rate': 0.03242921610135378, 'subsample': 0.8060481642335567, 'colsample_bytree': 0.8842019288229942, 'reg_alpha': 0.8052315066449902, 'reg_lambda': 5.453038798760399e-05}. Best is trial 77 with value: 0.003128024619592921.\n"
     ]
    },
    {
     "name": "stderr",
     "output_type": "stream",
     "text": [
      "Best trial: 77. Best value: 0.00312802: 100%|███████████████████████████████████████████████████████████████████████████████████████████████████████████████████████████████| 100/100 [1:06:45<00:00, 40.06s/it]\n"
     ]
    },
    {
     "name": "stdout",
     "output_type": "stream",
     "text": [
      "[I 2025-10-03 01:35:47,458] Trial 99 finished with value: 0.0031285309437647903 and parameters: {'n_estimators': 330, 'max_depth': 10, 'learning_rate': 0.02008487722613188, 'subsample': 0.7855342039258668, 'colsample_bytree': 0.8403594165279192, 'reg_alpha': 1.1918011622407507, 'reg_lambda': 1.0462627104760861e-05}. Best is trial 77 with value: 0.003128024619592921.\n",
      "Best RMSE: 0.05592874591471653\n",
      "Best params: {'n_estimators': 397, 'max_depth': 10, 'learning_rate': 0.021539536684396895, 'subsample': 0.8505238959081897, 'colsample_bytree': 0.863933806939917, 'reg_alpha': 1.571080728523751, 'reg_lambda': 3.1988203796018214e-05}\n"
     ]
    },
    {
     "data": {
      "text/html": [
       "<style>#sk-container-id-1 {\n",
       "  /* Definition of color scheme common for light and dark mode */\n",
       "  --sklearn-color-text: #000;\n",
       "  --sklearn-color-text-muted: #666;\n",
       "  --sklearn-color-line: gray;\n",
       "  /* Definition of color scheme for unfitted estimators */\n",
       "  --sklearn-color-unfitted-level-0: #fff5e6;\n",
       "  --sklearn-color-unfitted-level-1: #f6e4d2;\n",
       "  --sklearn-color-unfitted-level-2: #ffe0b3;\n",
       "  --sklearn-color-unfitted-level-3: chocolate;\n",
       "  /* Definition of color scheme for fitted estimators */\n",
       "  --sklearn-color-fitted-level-0: #f0f8ff;\n",
       "  --sklearn-color-fitted-level-1: #d4ebff;\n",
       "  --sklearn-color-fitted-level-2: #b3dbfd;\n",
       "  --sklearn-color-fitted-level-3: cornflowerblue;\n",
       "\n",
       "  /* Specific color for light theme */\n",
       "  --sklearn-color-text-on-default-background: var(--sg-text-color, var(--theme-code-foreground, var(--jp-content-font-color1, black)));\n",
       "  --sklearn-color-background: var(--sg-background-color, var(--theme-background, var(--jp-layout-color0, white)));\n",
       "  --sklearn-color-border-box: var(--sg-text-color, var(--theme-code-foreground, var(--jp-content-font-color1, black)));\n",
       "  --sklearn-color-icon: #696969;\n",
       "\n",
       "  @media (prefers-color-scheme: dark) {\n",
       "    /* Redefinition of color scheme for dark theme */\n",
       "    --sklearn-color-text-on-default-background: var(--sg-text-color, var(--theme-code-foreground, var(--jp-content-font-color1, white)));\n",
       "    --sklearn-color-background: var(--sg-background-color, var(--theme-background, var(--jp-layout-color0, #111)));\n",
       "    --sklearn-color-border-box: var(--sg-text-color, var(--theme-code-foreground, var(--jp-content-font-color1, white)));\n",
       "    --sklearn-color-icon: #878787;\n",
       "  }\n",
       "}\n",
       "\n",
       "#sk-container-id-1 {\n",
       "  color: var(--sklearn-color-text);\n",
       "}\n",
       "\n",
       "#sk-container-id-1 pre {\n",
       "  padding: 0;\n",
       "}\n",
       "\n",
       "#sk-container-id-1 input.sk-hidden--visually {\n",
       "  border: 0;\n",
       "  clip: rect(1px 1px 1px 1px);\n",
       "  clip: rect(1px, 1px, 1px, 1px);\n",
       "  height: 1px;\n",
       "  margin: -1px;\n",
       "  overflow: hidden;\n",
       "  padding: 0;\n",
       "  position: absolute;\n",
       "  width: 1px;\n",
       "}\n",
       "\n",
       "#sk-container-id-1 div.sk-dashed-wrapped {\n",
       "  border: 1px dashed var(--sklearn-color-line);\n",
       "  margin: 0 0.4em 0.5em 0.4em;\n",
       "  box-sizing: border-box;\n",
       "  padding-bottom: 0.4em;\n",
       "  background-color: var(--sklearn-color-background);\n",
       "}\n",
       "\n",
       "#sk-container-id-1 div.sk-container {\n",
       "  /* jupyter's `normalize.less` sets `[hidden] { display: none; }`\n",
       "     but bootstrap.min.css set `[hidden] { display: none !important; }`\n",
       "     so we also need the `!important` here to be able to override the\n",
       "     default hidden behavior on the sphinx rendered scikit-learn.org.\n",
       "     See: https://github.com/scikit-learn/scikit-learn/issues/21755 */\n",
       "  display: inline-block !important;\n",
       "  position: relative;\n",
       "}\n",
       "\n",
       "#sk-container-id-1 div.sk-text-repr-fallback {\n",
       "  display: none;\n",
       "}\n",
       "\n",
       "div.sk-parallel-item,\n",
       "div.sk-serial,\n",
       "div.sk-item {\n",
       "  /* draw centered vertical line to link estimators */\n",
       "  background-image: linear-gradient(var(--sklearn-color-text-on-default-background), var(--sklearn-color-text-on-default-background));\n",
       "  background-size: 2px 100%;\n",
       "  background-repeat: no-repeat;\n",
       "  background-position: center center;\n",
       "}\n",
       "\n",
       "/* Parallel-specific style estimator block */\n",
       "\n",
       "#sk-container-id-1 div.sk-parallel-item::after {\n",
       "  content: \"\";\n",
       "  width: 100%;\n",
       "  border-bottom: 2px solid var(--sklearn-color-text-on-default-background);\n",
       "  flex-grow: 1;\n",
       "}\n",
       "\n",
       "#sk-container-id-1 div.sk-parallel {\n",
       "  display: flex;\n",
       "  align-items: stretch;\n",
       "  justify-content: center;\n",
       "  background-color: var(--sklearn-color-background);\n",
       "  position: relative;\n",
       "}\n",
       "\n",
       "#sk-container-id-1 div.sk-parallel-item {\n",
       "  display: flex;\n",
       "  flex-direction: column;\n",
       "}\n",
       "\n",
       "#sk-container-id-1 div.sk-parallel-item:first-child::after {\n",
       "  align-self: flex-end;\n",
       "  width: 50%;\n",
       "}\n",
       "\n",
       "#sk-container-id-1 div.sk-parallel-item:last-child::after {\n",
       "  align-self: flex-start;\n",
       "  width: 50%;\n",
       "}\n",
       "\n",
       "#sk-container-id-1 div.sk-parallel-item:only-child::after {\n",
       "  width: 0;\n",
       "}\n",
       "\n",
       "/* Serial-specific style estimator block */\n",
       "\n",
       "#sk-container-id-1 div.sk-serial {\n",
       "  display: flex;\n",
       "  flex-direction: column;\n",
       "  align-items: center;\n",
       "  background-color: var(--sklearn-color-background);\n",
       "  padding-right: 1em;\n",
       "  padding-left: 1em;\n",
       "}\n",
       "\n",
       "\n",
       "/* Toggleable style: style used for estimator/Pipeline/ColumnTransformer box that is\n",
       "clickable and can be expanded/collapsed.\n",
       "- Pipeline and ColumnTransformer use this feature and define the default style\n",
       "- Estimators will overwrite some part of the style using the `sk-estimator` class\n",
       "*/\n",
       "\n",
       "/* Pipeline and ColumnTransformer style (default) */\n",
       "\n",
       "#sk-container-id-1 div.sk-toggleable {\n",
       "  /* Default theme specific background. It is overwritten whether we have a\n",
       "  specific estimator or a Pipeline/ColumnTransformer */\n",
       "  background-color: var(--sklearn-color-background);\n",
       "}\n",
       "\n",
       "/* Toggleable label */\n",
       "#sk-container-id-1 label.sk-toggleable__label {\n",
       "  cursor: pointer;\n",
       "  display: flex;\n",
       "  width: 100%;\n",
       "  margin-bottom: 0;\n",
       "  padding: 0.5em;\n",
       "  box-sizing: border-box;\n",
       "  text-align: center;\n",
       "  align-items: start;\n",
       "  justify-content: space-between;\n",
       "  gap: 0.5em;\n",
       "}\n",
       "\n",
       "#sk-container-id-1 label.sk-toggleable__label .caption {\n",
       "  font-size: 0.6rem;\n",
       "  font-weight: lighter;\n",
       "  color: var(--sklearn-color-text-muted);\n",
       "}\n",
       "\n",
       "#sk-container-id-1 label.sk-toggleable__label-arrow:before {\n",
       "  /* Arrow on the left of the label */\n",
       "  content: \"▸\";\n",
       "  float: left;\n",
       "  margin-right: 0.25em;\n",
       "  color: var(--sklearn-color-icon);\n",
       "}\n",
       "\n",
       "#sk-container-id-1 label.sk-toggleable__label-arrow:hover:before {\n",
       "  color: var(--sklearn-color-text);\n",
       "}\n",
       "\n",
       "/* Toggleable content - dropdown */\n",
       "\n",
       "#sk-container-id-1 div.sk-toggleable__content {\n",
       "  display: none;\n",
       "  text-align: left;\n",
       "  /* unfitted */\n",
       "  background-color: var(--sklearn-color-unfitted-level-0);\n",
       "}\n",
       "\n",
       "#sk-container-id-1 div.sk-toggleable__content.fitted {\n",
       "  /* fitted */\n",
       "  background-color: var(--sklearn-color-fitted-level-0);\n",
       "}\n",
       "\n",
       "#sk-container-id-1 div.sk-toggleable__content pre {\n",
       "  margin: 0.2em;\n",
       "  border-radius: 0.25em;\n",
       "  color: var(--sklearn-color-text);\n",
       "  /* unfitted */\n",
       "  background-color: var(--sklearn-color-unfitted-level-0);\n",
       "}\n",
       "\n",
       "#sk-container-id-1 div.sk-toggleable__content.fitted pre {\n",
       "  /* unfitted */\n",
       "  background-color: var(--sklearn-color-fitted-level-0);\n",
       "}\n",
       "\n",
       "#sk-container-id-1 input.sk-toggleable__control:checked~div.sk-toggleable__content {\n",
       "  /* Expand drop-down */\n",
       "  display: block;\n",
       "  width: 100%;\n",
       "  overflow: visible;\n",
       "}\n",
       "\n",
       "#sk-container-id-1 input.sk-toggleable__control:checked~label.sk-toggleable__label-arrow:before {\n",
       "  content: \"▾\";\n",
       "}\n",
       "\n",
       "/* Pipeline/ColumnTransformer-specific style */\n",
       "\n",
       "#sk-container-id-1 div.sk-label input.sk-toggleable__control:checked~label.sk-toggleable__label {\n",
       "  color: var(--sklearn-color-text);\n",
       "  background-color: var(--sklearn-color-unfitted-level-2);\n",
       "}\n",
       "\n",
       "#sk-container-id-1 div.sk-label.fitted input.sk-toggleable__control:checked~label.sk-toggleable__label {\n",
       "  background-color: var(--sklearn-color-fitted-level-2);\n",
       "}\n",
       "\n",
       "/* Estimator-specific style */\n",
       "\n",
       "/* Colorize estimator box */\n",
       "#sk-container-id-1 div.sk-estimator input.sk-toggleable__control:checked~label.sk-toggleable__label {\n",
       "  /* unfitted */\n",
       "  background-color: var(--sklearn-color-unfitted-level-2);\n",
       "}\n",
       "\n",
       "#sk-container-id-1 div.sk-estimator.fitted input.sk-toggleable__control:checked~label.sk-toggleable__label {\n",
       "  /* fitted */\n",
       "  background-color: var(--sklearn-color-fitted-level-2);\n",
       "}\n",
       "\n",
       "#sk-container-id-1 div.sk-label label.sk-toggleable__label,\n",
       "#sk-container-id-1 div.sk-label label {\n",
       "  /* The background is the default theme color */\n",
       "  color: var(--sklearn-color-text-on-default-background);\n",
       "}\n",
       "\n",
       "/* On hover, darken the color of the background */\n",
       "#sk-container-id-1 div.sk-label:hover label.sk-toggleable__label {\n",
       "  color: var(--sklearn-color-text);\n",
       "  background-color: var(--sklearn-color-unfitted-level-2);\n",
       "}\n",
       "\n",
       "/* Label box, darken color on hover, fitted */\n",
       "#sk-container-id-1 div.sk-label.fitted:hover label.sk-toggleable__label.fitted {\n",
       "  color: var(--sklearn-color-text);\n",
       "  background-color: var(--sklearn-color-fitted-level-2);\n",
       "}\n",
       "\n",
       "/* Estimator label */\n",
       "\n",
       "#sk-container-id-1 div.sk-label label {\n",
       "  font-family: monospace;\n",
       "  font-weight: bold;\n",
       "  display: inline-block;\n",
       "  line-height: 1.2em;\n",
       "}\n",
       "\n",
       "#sk-container-id-1 div.sk-label-container {\n",
       "  text-align: center;\n",
       "}\n",
       "\n",
       "/* Estimator-specific */\n",
       "#sk-container-id-1 div.sk-estimator {\n",
       "  font-family: monospace;\n",
       "  border: 1px dotted var(--sklearn-color-border-box);\n",
       "  border-radius: 0.25em;\n",
       "  box-sizing: border-box;\n",
       "  margin-bottom: 0.5em;\n",
       "  /* unfitted */\n",
       "  background-color: var(--sklearn-color-unfitted-level-0);\n",
       "}\n",
       "\n",
       "#sk-container-id-1 div.sk-estimator.fitted {\n",
       "  /* fitted */\n",
       "  background-color: var(--sklearn-color-fitted-level-0);\n",
       "}\n",
       "\n",
       "/* on hover */\n",
       "#sk-container-id-1 div.sk-estimator:hover {\n",
       "  /* unfitted */\n",
       "  background-color: var(--sklearn-color-unfitted-level-2);\n",
       "}\n",
       "\n",
       "#sk-container-id-1 div.sk-estimator.fitted:hover {\n",
       "  /* fitted */\n",
       "  background-color: var(--sklearn-color-fitted-level-2);\n",
       "}\n",
       "\n",
       "/* Specification for estimator info (e.g. \"i\" and \"?\") */\n",
       "\n",
       "/* Common style for \"i\" and \"?\" */\n",
       "\n",
       ".sk-estimator-doc-link,\n",
       "a:link.sk-estimator-doc-link,\n",
       "a:visited.sk-estimator-doc-link {\n",
       "  float: right;\n",
       "  font-size: smaller;\n",
       "  line-height: 1em;\n",
       "  font-family: monospace;\n",
       "  background-color: var(--sklearn-color-background);\n",
       "  border-radius: 1em;\n",
       "  height: 1em;\n",
       "  width: 1em;\n",
       "  text-decoration: none !important;\n",
       "  margin-left: 0.5em;\n",
       "  text-align: center;\n",
       "  /* unfitted */\n",
       "  border: var(--sklearn-color-unfitted-level-1) 1pt solid;\n",
       "  color: var(--sklearn-color-unfitted-level-1);\n",
       "}\n",
       "\n",
       ".sk-estimator-doc-link.fitted,\n",
       "a:link.sk-estimator-doc-link.fitted,\n",
       "a:visited.sk-estimator-doc-link.fitted {\n",
       "  /* fitted */\n",
       "  border: var(--sklearn-color-fitted-level-1) 1pt solid;\n",
       "  color: var(--sklearn-color-fitted-level-1);\n",
       "}\n",
       "\n",
       "/* On hover */\n",
       "div.sk-estimator:hover .sk-estimator-doc-link:hover,\n",
       ".sk-estimator-doc-link:hover,\n",
       "div.sk-label-container:hover .sk-estimator-doc-link:hover,\n",
       ".sk-estimator-doc-link:hover {\n",
       "  /* unfitted */\n",
       "  background-color: var(--sklearn-color-unfitted-level-3);\n",
       "  color: var(--sklearn-color-background);\n",
       "  text-decoration: none;\n",
       "}\n",
       "\n",
       "div.sk-estimator.fitted:hover .sk-estimator-doc-link.fitted:hover,\n",
       ".sk-estimator-doc-link.fitted:hover,\n",
       "div.sk-label-container:hover .sk-estimator-doc-link.fitted:hover,\n",
       ".sk-estimator-doc-link.fitted:hover {\n",
       "  /* fitted */\n",
       "  background-color: var(--sklearn-color-fitted-level-3);\n",
       "  color: var(--sklearn-color-background);\n",
       "  text-decoration: none;\n",
       "}\n",
       "\n",
       "/* Span, style for the box shown on hovering the info icon */\n",
       ".sk-estimator-doc-link span {\n",
       "  display: none;\n",
       "  z-index: 9999;\n",
       "  position: relative;\n",
       "  font-weight: normal;\n",
       "  right: .2ex;\n",
       "  padding: .5ex;\n",
       "  margin: .5ex;\n",
       "  width: min-content;\n",
       "  min-width: 20ex;\n",
       "  max-width: 50ex;\n",
       "  color: var(--sklearn-color-text);\n",
       "  box-shadow: 2pt 2pt 4pt #999;\n",
       "  /* unfitted */\n",
       "  background: var(--sklearn-color-unfitted-level-0);\n",
       "  border: .5pt solid var(--sklearn-color-unfitted-level-3);\n",
       "}\n",
       "\n",
       ".sk-estimator-doc-link.fitted span {\n",
       "  /* fitted */\n",
       "  background: var(--sklearn-color-fitted-level-0);\n",
       "  border: var(--sklearn-color-fitted-level-3);\n",
       "}\n",
       "\n",
       ".sk-estimator-doc-link:hover span {\n",
       "  display: block;\n",
       "}\n",
       "\n",
       "/* \"?\"-specific style due to the `<a>` HTML tag */\n",
       "\n",
       "#sk-container-id-1 a.estimator_doc_link {\n",
       "  float: right;\n",
       "  font-size: 1rem;\n",
       "  line-height: 1em;\n",
       "  font-family: monospace;\n",
       "  background-color: var(--sklearn-color-background);\n",
       "  border-radius: 1rem;\n",
       "  height: 1rem;\n",
       "  width: 1rem;\n",
       "  text-decoration: none;\n",
       "  /* unfitted */\n",
       "  color: var(--sklearn-color-unfitted-level-1);\n",
       "  border: var(--sklearn-color-unfitted-level-1) 1pt solid;\n",
       "}\n",
       "\n",
       "#sk-container-id-1 a.estimator_doc_link.fitted {\n",
       "  /* fitted */\n",
       "  border: var(--sklearn-color-fitted-level-1) 1pt solid;\n",
       "  color: var(--sklearn-color-fitted-level-1);\n",
       "}\n",
       "\n",
       "/* On hover */\n",
       "#sk-container-id-1 a.estimator_doc_link:hover {\n",
       "  /* unfitted */\n",
       "  background-color: var(--sklearn-color-unfitted-level-3);\n",
       "  color: var(--sklearn-color-background);\n",
       "  text-decoration: none;\n",
       "}\n",
       "\n",
       "#sk-container-id-1 a.estimator_doc_link.fitted:hover {\n",
       "  /* fitted */\n",
       "  background-color: var(--sklearn-color-fitted-level-3);\n",
       "}\n",
       "\n",
       ".estimator-table summary {\n",
       "    padding: .5rem;\n",
       "    font-family: monospace;\n",
       "    cursor: pointer;\n",
       "}\n",
       "\n",
       ".estimator-table details[open] {\n",
       "    padding-left: 0.1rem;\n",
       "    padding-right: 0.1rem;\n",
       "    padding-bottom: 0.3rem;\n",
       "}\n",
       "\n",
       ".estimator-table .parameters-table {\n",
       "    margin-left: auto !important;\n",
       "    margin-right: auto !important;\n",
       "}\n",
       "\n",
       ".estimator-table .parameters-table tr:nth-child(odd) {\n",
       "    background-color: #fff;\n",
       "}\n",
       "\n",
       ".estimator-table .parameters-table tr:nth-child(even) {\n",
       "    background-color: #f6f6f6;\n",
       "}\n",
       "\n",
       ".estimator-table .parameters-table tr:hover {\n",
       "    background-color: #e0e0e0;\n",
       "}\n",
       "\n",
       ".estimator-table table td {\n",
       "    border: 1px solid rgba(106, 105, 104, 0.232);\n",
       "}\n",
       "\n",
       ".user-set td {\n",
       "    color:rgb(255, 94, 0);\n",
       "    text-align: left;\n",
       "}\n",
       "\n",
       ".user-set td.value pre {\n",
       "    color:rgb(255, 94, 0) !important;\n",
       "    background-color: transparent !important;\n",
       "}\n",
       "\n",
       ".default td {\n",
       "    color: black;\n",
       "    text-align: left;\n",
       "}\n",
       "\n",
       ".user-set td i,\n",
       ".default td i {\n",
       "    color: black;\n",
       "}\n",
       "\n",
       ".copy-paste-icon {\n",
       "    background-image: url(data:image/svg+xml;base64,PHN2ZyB4bWxucz0iaHR0cDovL3d3dy53My5vcmcvMjAwMC9zdmciIHZpZXdCb3g9IjAgMCA0NDggNTEyIj48IS0tIUZvbnQgQXdlc29tZSBGcmVlIDYuNy4yIGJ5IEBmb250YXdlc29tZSAtIGh0dHBzOi8vZm9udGF3ZXNvbWUuY29tIExpY2Vuc2UgLSBodHRwczovL2ZvbnRhd2Vzb21lLmNvbS9saWNlbnNlL2ZyZWUgQ29weXJpZ2h0IDIwMjUgRm9udGljb25zLCBJbmMuLS0+PHBhdGggZD0iTTIwOCAwTDMzMi4xIDBjMTIuNyAwIDI0LjkgNS4xIDMzLjkgMTQuMWw2Ny45IDY3LjljOSA5IDE0LjEgMjEuMiAxNC4xIDMzLjlMNDQ4IDMzNmMwIDI2LjUtMjEuNSA0OC00OCA0OGwtMTkyIDBjLTI2LjUgMC00OC0yMS41LTQ4LTQ4bDAtMjg4YzAtMjYuNSAyMS41LTQ4IDQ4LTQ4ek00OCAxMjhsODAgMCAwIDY0LTY0IDAgMCAyNTYgMTkyIDAgMC0zMiA2NCAwIDAgNDhjMCAyNi41LTIxLjUgNDgtNDggNDhMNDggNTEyYy0yNi41IDAtNDgtMjEuNS00OC00OEwwIDE3NmMwLTI2LjUgMjEuNS00OCA0OC00OHoiLz48L3N2Zz4=);\n",
       "    background-repeat: no-repeat;\n",
       "    background-size: 14px 14px;\n",
       "    background-position: 0;\n",
       "    display: inline-block;\n",
       "    width: 14px;\n",
       "    height: 14px;\n",
       "    cursor: pointer;\n",
       "}\n",
       "</style><body><div id=\"sk-container-id-1\" class=\"sk-top-container\"><div class=\"sk-text-repr-fallback\"><pre>XGBRegressor(base_score=None, booster=None, callbacks=None,\n",
       "             colsample_bylevel=None, colsample_bynode=None,\n",
       "             colsample_bytree=0.863933806939917, device=None,\n",
       "             early_stopping_rounds=None, enable_categorical=False,\n",
       "             eval_metric=None, feature_types=None, feature_weights=None,\n",
       "             gamma=None, grow_policy=None, importance_type=None,\n",
       "             interaction_constraints=None, learning_rate=0.021539536684396895,\n",
       "             max_bin=None, max_cat_threshold=None, max_cat_to_onehot=None,\n",
       "             max_delta_step=None, max_depth=10, max_leaves=None,\n",
       "             min_child_weight=None, missing=nan, monotone_constraints=None,\n",
       "             multi_strategy=None, n_estimators=397, n_jobs=None,\n",
       "             num_parallel_tree=None, ...)</pre><b>In a Jupyter environment, please rerun this cell to show the HTML representation or trust the notebook. <br />On GitHub, the HTML representation is unable to render, please try loading this page with nbviewer.org.</b></div><div class=\"sk-container\" hidden><div class=\"sk-item\"><div class=\"sk-estimator fitted sk-toggleable\"><input class=\"sk-toggleable__control sk-hidden--visually\" id=\"sk-estimator-id-1\" type=\"checkbox\" checked><label for=\"sk-estimator-id-1\" class=\"sk-toggleable__label fitted sk-toggleable__label-arrow\"><div><div>XGBRegressor</div></div><div><a class=\"sk-estimator-doc-link fitted\" rel=\"noreferrer\" target=\"_blank\" href=\"https://xgboost.readthedocs.io/en/release_3.0.0/python/python_api.html#xgboost.XGBRegressor\">?<span>Documentation for XGBRegressor</span></a><span class=\"sk-estimator-doc-link fitted\">i<span>Fitted</span></span></div></label><div class=\"sk-toggleable__content fitted\" data-param-prefix=\"\">\n",
       "        <div class=\"estimator-table\">\n",
       "            <details>\n",
       "                <summary>Parameters</summary>\n",
       "                <table class=\"parameters-table\">\n",
       "                  <tbody>\n",
       "                    \n",
       "        <tr class=\"default\">\n",
       "            <td><i class=\"copy-paste-icon\"\n",
       "                 onclick=\"copyToClipboard('objective',\n",
       "                          this.parentElement.nextElementSibling)\"\n",
       "            ></i></td>\n",
       "            <td class=\"param\">objective&nbsp;</td>\n",
       "            <td class=\"value\">&#x27;reg:squarederror&#x27;</td>\n",
       "        </tr>\n",
       "    \n",
       "\n",
       "        <tr class=\"user-set\">\n",
       "            <td><i class=\"copy-paste-icon\"\n",
       "                 onclick=\"copyToClipboard('base_score',\n",
       "                          this.parentElement.nextElementSibling)\"\n",
       "            ></i></td>\n",
       "            <td class=\"param\">base_score&nbsp;</td>\n",
       "            <td class=\"value\">None</td>\n",
       "        </tr>\n",
       "    \n",
       "\n",
       "        <tr class=\"user-set\">\n",
       "            <td><i class=\"copy-paste-icon\"\n",
       "                 onclick=\"copyToClipboard('booster',\n",
       "                          this.parentElement.nextElementSibling)\"\n",
       "            ></i></td>\n",
       "            <td class=\"param\">booster&nbsp;</td>\n",
       "            <td class=\"value\">None</td>\n",
       "        </tr>\n",
       "    \n",
       "\n",
       "        <tr class=\"user-set\">\n",
       "            <td><i class=\"copy-paste-icon\"\n",
       "                 onclick=\"copyToClipboard('callbacks',\n",
       "                          this.parentElement.nextElementSibling)\"\n",
       "            ></i></td>\n",
       "            <td class=\"param\">callbacks&nbsp;</td>\n",
       "            <td class=\"value\">None</td>\n",
       "        </tr>\n",
       "    \n",
       "\n",
       "        <tr class=\"user-set\">\n",
       "            <td><i class=\"copy-paste-icon\"\n",
       "                 onclick=\"copyToClipboard('colsample_bylevel',\n",
       "                          this.parentElement.nextElementSibling)\"\n",
       "            ></i></td>\n",
       "            <td class=\"param\">colsample_bylevel&nbsp;</td>\n",
       "            <td class=\"value\">None</td>\n",
       "        </tr>\n",
       "    \n",
       "\n",
       "        <tr class=\"user-set\">\n",
       "            <td><i class=\"copy-paste-icon\"\n",
       "                 onclick=\"copyToClipboard('colsample_bynode',\n",
       "                          this.parentElement.nextElementSibling)\"\n",
       "            ></i></td>\n",
       "            <td class=\"param\">colsample_bynode&nbsp;</td>\n",
       "            <td class=\"value\">None</td>\n",
       "        </tr>\n",
       "    \n",
       "\n",
       "        <tr class=\"user-set\">\n",
       "            <td><i class=\"copy-paste-icon\"\n",
       "                 onclick=\"copyToClipboard('colsample_bytree',\n",
       "                          this.parentElement.nextElementSibling)\"\n",
       "            ></i></td>\n",
       "            <td class=\"param\">colsample_bytree&nbsp;</td>\n",
       "            <td class=\"value\">0.863933806939917</td>\n",
       "        </tr>\n",
       "    \n",
       "\n",
       "        <tr class=\"user-set\">\n",
       "            <td><i class=\"copy-paste-icon\"\n",
       "                 onclick=\"copyToClipboard('device',\n",
       "                          this.parentElement.nextElementSibling)\"\n",
       "            ></i></td>\n",
       "            <td class=\"param\">device&nbsp;</td>\n",
       "            <td class=\"value\">None</td>\n",
       "        </tr>\n",
       "    \n",
       "\n",
       "        <tr class=\"user-set\">\n",
       "            <td><i class=\"copy-paste-icon\"\n",
       "                 onclick=\"copyToClipboard('early_stopping_rounds',\n",
       "                          this.parentElement.nextElementSibling)\"\n",
       "            ></i></td>\n",
       "            <td class=\"param\">early_stopping_rounds&nbsp;</td>\n",
       "            <td class=\"value\">None</td>\n",
       "        </tr>\n",
       "    \n",
       "\n",
       "        <tr class=\"user-set\">\n",
       "            <td><i class=\"copy-paste-icon\"\n",
       "                 onclick=\"copyToClipboard('enable_categorical',\n",
       "                          this.parentElement.nextElementSibling)\"\n",
       "            ></i></td>\n",
       "            <td class=\"param\">enable_categorical&nbsp;</td>\n",
       "            <td class=\"value\">False</td>\n",
       "        </tr>\n",
       "    \n",
       "\n",
       "        <tr class=\"user-set\">\n",
       "            <td><i class=\"copy-paste-icon\"\n",
       "                 onclick=\"copyToClipboard('eval_metric',\n",
       "                          this.parentElement.nextElementSibling)\"\n",
       "            ></i></td>\n",
       "            <td class=\"param\">eval_metric&nbsp;</td>\n",
       "            <td class=\"value\">None</td>\n",
       "        </tr>\n",
       "    \n",
       "\n",
       "        <tr class=\"user-set\">\n",
       "            <td><i class=\"copy-paste-icon\"\n",
       "                 onclick=\"copyToClipboard('feature_types',\n",
       "                          this.parentElement.nextElementSibling)\"\n",
       "            ></i></td>\n",
       "            <td class=\"param\">feature_types&nbsp;</td>\n",
       "            <td class=\"value\">None</td>\n",
       "        </tr>\n",
       "    \n",
       "\n",
       "        <tr class=\"user-set\">\n",
       "            <td><i class=\"copy-paste-icon\"\n",
       "                 onclick=\"copyToClipboard('feature_weights',\n",
       "                          this.parentElement.nextElementSibling)\"\n",
       "            ></i></td>\n",
       "            <td class=\"param\">feature_weights&nbsp;</td>\n",
       "            <td class=\"value\">None</td>\n",
       "        </tr>\n",
       "    \n",
       "\n",
       "        <tr class=\"user-set\">\n",
       "            <td><i class=\"copy-paste-icon\"\n",
       "                 onclick=\"copyToClipboard('gamma',\n",
       "                          this.parentElement.nextElementSibling)\"\n",
       "            ></i></td>\n",
       "            <td class=\"param\">gamma&nbsp;</td>\n",
       "            <td class=\"value\">None</td>\n",
       "        </tr>\n",
       "    \n",
       "\n",
       "        <tr class=\"user-set\">\n",
       "            <td><i class=\"copy-paste-icon\"\n",
       "                 onclick=\"copyToClipboard('grow_policy',\n",
       "                          this.parentElement.nextElementSibling)\"\n",
       "            ></i></td>\n",
       "            <td class=\"param\">grow_policy&nbsp;</td>\n",
       "            <td class=\"value\">None</td>\n",
       "        </tr>\n",
       "    \n",
       "\n",
       "        <tr class=\"user-set\">\n",
       "            <td><i class=\"copy-paste-icon\"\n",
       "                 onclick=\"copyToClipboard('importance_type',\n",
       "                          this.parentElement.nextElementSibling)\"\n",
       "            ></i></td>\n",
       "            <td class=\"param\">importance_type&nbsp;</td>\n",
       "            <td class=\"value\">None</td>\n",
       "        </tr>\n",
       "    \n",
       "\n",
       "        <tr class=\"user-set\">\n",
       "            <td><i class=\"copy-paste-icon\"\n",
       "                 onclick=\"copyToClipboard('interaction_constraints',\n",
       "                          this.parentElement.nextElementSibling)\"\n",
       "            ></i></td>\n",
       "            <td class=\"param\">interaction_constraints&nbsp;</td>\n",
       "            <td class=\"value\">None</td>\n",
       "        </tr>\n",
       "    \n",
       "\n",
       "        <tr class=\"user-set\">\n",
       "            <td><i class=\"copy-paste-icon\"\n",
       "                 onclick=\"copyToClipboard('learning_rate',\n",
       "                          this.parentElement.nextElementSibling)\"\n",
       "            ></i></td>\n",
       "            <td class=\"param\">learning_rate&nbsp;</td>\n",
       "            <td class=\"value\">0.021539536684396895</td>\n",
       "        </tr>\n",
       "    \n",
       "\n",
       "        <tr class=\"user-set\">\n",
       "            <td><i class=\"copy-paste-icon\"\n",
       "                 onclick=\"copyToClipboard('max_bin',\n",
       "                          this.parentElement.nextElementSibling)\"\n",
       "            ></i></td>\n",
       "            <td class=\"param\">max_bin&nbsp;</td>\n",
       "            <td class=\"value\">None</td>\n",
       "        </tr>\n",
       "    \n",
       "\n",
       "        <tr class=\"user-set\">\n",
       "            <td><i class=\"copy-paste-icon\"\n",
       "                 onclick=\"copyToClipboard('max_cat_threshold',\n",
       "                          this.parentElement.nextElementSibling)\"\n",
       "            ></i></td>\n",
       "            <td class=\"param\">max_cat_threshold&nbsp;</td>\n",
       "            <td class=\"value\">None</td>\n",
       "        </tr>\n",
       "    \n",
       "\n",
       "        <tr class=\"user-set\">\n",
       "            <td><i class=\"copy-paste-icon\"\n",
       "                 onclick=\"copyToClipboard('max_cat_to_onehot',\n",
       "                          this.parentElement.nextElementSibling)\"\n",
       "            ></i></td>\n",
       "            <td class=\"param\">max_cat_to_onehot&nbsp;</td>\n",
       "            <td class=\"value\">None</td>\n",
       "        </tr>\n",
       "    \n",
       "\n",
       "        <tr class=\"user-set\">\n",
       "            <td><i class=\"copy-paste-icon\"\n",
       "                 onclick=\"copyToClipboard('max_delta_step',\n",
       "                          this.parentElement.nextElementSibling)\"\n",
       "            ></i></td>\n",
       "            <td class=\"param\">max_delta_step&nbsp;</td>\n",
       "            <td class=\"value\">None</td>\n",
       "        </tr>\n",
       "    \n",
       "\n",
       "        <tr class=\"user-set\">\n",
       "            <td><i class=\"copy-paste-icon\"\n",
       "                 onclick=\"copyToClipboard('max_depth',\n",
       "                          this.parentElement.nextElementSibling)\"\n",
       "            ></i></td>\n",
       "            <td class=\"param\">max_depth&nbsp;</td>\n",
       "            <td class=\"value\">10</td>\n",
       "        </tr>\n",
       "    \n",
       "\n",
       "        <tr class=\"user-set\">\n",
       "            <td><i class=\"copy-paste-icon\"\n",
       "                 onclick=\"copyToClipboard('max_leaves',\n",
       "                          this.parentElement.nextElementSibling)\"\n",
       "            ></i></td>\n",
       "            <td class=\"param\">max_leaves&nbsp;</td>\n",
       "            <td class=\"value\">None</td>\n",
       "        </tr>\n",
       "    \n",
       "\n",
       "        <tr class=\"user-set\">\n",
       "            <td><i class=\"copy-paste-icon\"\n",
       "                 onclick=\"copyToClipboard('min_child_weight',\n",
       "                          this.parentElement.nextElementSibling)\"\n",
       "            ></i></td>\n",
       "            <td class=\"param\">min_child_weight&nbsp;</td>\n",
       "            <td class=\"value\">None</td>\n",
       "        </tr>\n",
       "    \n",
       "\n",
       "        <tr class=\"user-set\">\n",
       "            <td><i class=\"copy-paste-icon\"\n",
       "                 onclick=\"copyToClipboard('missing',\n",
       "                          this.parentElement.nextElementSibling)\"\n",
       "            ></i></td>\n",
       "            <td class=\"param\">missing&nbsp;</td>\n",
       "            <td class=\"value\">nan</td>\n",
       "        </tr>\n",
       "    \n",
       "\n",
       "        <tr class=\"user-set\">\n",
       "            <td><i class=\"copy-paste-icon\"\n",
       "                 onclick=\"copyToClipboard('monotone_constraints',\n",
       "                          this.parentElement.nextElementSibling)\"\n",
       "            ></i></td>\n",
       "            <td class=\"param\">monotone_constraints&nbsp;</td>\n",
       "            <td class=\"value\">None</td>\n",
       "        </tr>\n",
       "    \n",
       "\n",
       "        <tr class=\"user-set\">\n",
       "            <td><i class=\"copy-paste-icon\"\n",
       "                 onclick=\"copyToClipboard('multi_strategy',\n",
       "                          this.parentElement.nextElementSibling)\"\n",
       "            ></i></td>\n",
       "            <td class=\"param\">multi_strategy&nbsp;</td>\n",
       "            <td class=\"value\">None</td>\n",
       "        </tr>\n",
       "    \n",
       "\n",
       "        <tr class=\"user-set\">\n",
       "            <td><i class=\"copy-paste-icon\"\n",
       "                 onclick=\"copyToClipboard('n_estimators',\n",
       "                          this.parentElement.nextElementSibling)\"\n",
       "            ></i></td>\n",
       "            <td class=\"param\">n_estimators&nbsp;</td>\n",
       "            <td class=\"value\">397</td>\n",
       "        </tr>\n",
       "    \n",
       "\n",
       "        <tr class=\"user-set\">\n",
       "            <td><i class=\"copy-paste-icon\"\n",
       "                 onclick=\"copyToClipboard('n_jobs',\n",
       "                          this.parentElement.nextElementSibling)\"\n",
       "            ></i></td>\n",
       "            <td class=\"param\">n_jobs&nbsp;</td>\n",
       "            <td class=\"value\">None</td>\n",
       "        </tr>\n",
       "    \n",
       "\n",
       "        <tr class=\"user-set\">\n",
       "            <td><i class=\"copy-paste-icon\"\n",
       "                 onclick=\"copyToClipboard('num_parallel_tree',\n",
       "                          this.parentElement.nextElementSibling)\"\n",
       "            ></i></td>\n",
       "            <td class=\"param\">num_parallel_tree&nbsp;</td>\n",
       "            <td class=\"value\">None</td>\n",
       "        </tr>\n",
       "    \n",
       "\n",
       "        <tr class=\"user-set\">\n",
       "            <td><i class=\"copy-paste-icon\"\n",
       "                 onclick=\"copyToClipboard('random_state',\n",
       "                          this.parentElement.nextElementSibling)\"\n",
       "            ></i></td>\n",
       "            <td class=\"param\">random_state&nbsp;</td>\n",
       "            <td class=\"value\">None</td>\n",
       "        </tr>\n",
       "    \n",
       "\n",
       "        <tr class=\"user-set\">\n",
       "            <td><i class=\"copy-paste-icon\"\n",
       "                 onclick=\"copyToClipboard('reg_alpha',\n",
       "                          this.parentElement.nextElementSibling)\"\n",
       "            ></i></td>\n",
       "            <td class=\"param\">reg_alpha&nbsp;</td>\n",
       "            <td class=\"value\">1.571080728523751</td>\n",
       "        </tr>\n",
       "    \n",
       "\n",
       "        <tr class=\"user-set\">\n",
       "            <td><i class=\"copy-paste-icon\"\n",
       "                 onclick=\"copyToClipboard('reg_lambda',\n",
       "                          this.parentElement.nextElementSibling)\"\n",
       "            ></i></td>\n",
       "            <td class=\"param\">reg_lambda&nbsp;</td>\n",
       "            <td class=\"value\">3.1988203796018214e-05</td>\n",
       "        </tr>\n",
       "    \n",
       "\n",
       "        <tr class=\"user-set\">\n",
       "            <td><i class=\"copy-paste-icon\"\n",
       "                 onclick=\"copyToClipboard('sampling_method',\n",
       "                          this.parentElement.nextElementSibling)\"\n",
       "            ></i></td>\n",
       "            <td class=\"param\">sampling_method&nbsp;</td>\n",
       "            <td class=\"value\">None</td>\n",
       "        </tr>\n",
       "    \n",
       "\n",
       "        <tr class=\"user-set\">\n",
       "            <td><i class=\"copy-paste-icon\"\n",
       "                 onclick=\"copyToClipboard('scale_pos_weight',\n",
       "                          this.parentElement.nextElementSibling)\"\n",
       "            ></i></td>\n",
       "            <td class=\"param\">scale_pos_weight&nbsp;</td>\n",
       "            <td class=\"value\">None</td>\n",
       "        </tr>\n",
       "    \n",
       "\n",
       "        <tr class=\"user-set\">\n",
       "            <td><i class=\"copy-paste-icon\"\n",
       "                 onclick=\"copyToClipboard('subsample',\n",
       "                          this.parentElement.nextElementSibling)\"\n",
       "            ></i></td>\n",
       "            <td class=\"param\">subsample&nbsp;</td>\n",
       "            <td class=\"value\">0.8505238959081897</td>\n",
       "        </tr>\n",
       "    \n",
       "\n",
       "        <tr class=\"user-set\">\n",
       "            <td><i class=\"copy-paste-icon\"\n",
       "                 onclick=\"copyToClipboard('tree_method',\n",
       "                          this.parentElement.nextElementSibling)\"\n",
       "            ></i></td>\n",
       "            <td class=\"param\">tree_method&nbsp;</td>\n",
       "            <td class=\"value\">None</td>\n",
       "        </tr>\n",
       "    \n",
       "\n",
       "        <tr class=\"user-set\">\n",
       "            <td><i class=\"copy-paste-icon\"\n",
       "                 onclick=\"copyToClipboard('validate_parameters',\n",
       "                          this.parentElement.nextElementSibling)\"\n",
       "            ></i></td>\n",
       "            <td class=\"param\">validate_parameters&nbsp;</td>\n",
       "            <td class=\"value\">None</td>\n",
       "        </tr>\n",
       "    \n",
       "\n",
       "        <tr class=\"user-set\">\n",
       "            <td><i class=\"copy-paste-icon\"\n",
       "                 onclick=\"copyToClipboard('verbosity',\n",
       "                          this.parentElement.nextElementSibling)\"\n",
       "            ></i></td>\n",
       "            <td class=\"param\">verbosity&nbsp;</td>\n",
       "            <td class=\"value\">None</td>\n",
       "        </tr>\n",
       "    \n",
       "                  </tbody>\n",
       "                </table>\n",
       "            </details>\n",
       "        </div>\n",
       "    </div></div></div></div></div><script>function copyToClipboard(text, element) {\n",
       "    // Get the parameter prefix from the closest toggleable content\n",
       "    const toggleableContent = element.closest('.sk-toggleable__content');\n",
       "    const paramPrefix = toggleableContent ? toggleableContent.dataset.paramPrefix : '';\n",
       "    const fullParamName = paramPrefix ? `${paramPrefix}${text}` : text;\n",
       "\n",
       "    const originalStyle = element.style;\n",
       "    const computedStyle = window.getComputedStyle(element);\n",
       "    const originalWidth = computedStyle.width;\n",
       "    const originalHTML = element.innerHTML.replace('Copied!', '');\n",
       "\n",
       "    navigator.clipboard.writeText(fullParamName)\n",
       "        .then(() => {\n",
       "            element.style.width = originalWidth;\n",
       "            element.style.color = 'green';\n",
       "            element.innerHTML = \"Copied!\";\n",
       "\n",
       "            setTimeout(() => {\n",
       "                element.innerHTML = originalHTML;\n",
       "                element.style = originalStyle;\n",
       "            }, 2000);\n",
       "        })\n",
       "        .catch(err => {\n",
       "            console.error('Failed to copy:', err);\n",
       "            element.style.color = 'red';\n",
       "            element.innerHTML = \"Failed!\";\n",
       "            setTimeout(() => {\n",
       "                element.innerHTML = originalHTML;\n",
       "                element.style = originalStyle;\n",
       "            }, 2000);\n",
       "        });\n",
       "    return false;\n",
       "}\n",
       "\n",
       "document.querySelectorAll('.fa-regular.fa-copy').forEach(function(element) {\n",
       "    const toggleableContent = element.closest('.sk-toggleable__content');\n",
       "    const paramPrefix = toggleableContent ? toggleableContent.dataset.paramPrefix : '';\n",
       "    const paramName = element.parentElement.nextElementSibling.textContent.trim();\n",
       "    const fullParamName = paramPrefix ? `${paramPrefix}${paramName}` : paramName;\n",
       "\n",
       "    element.setAttribute('title', fullParamName);\n",
       "});\n",
       "</script></body>"
      ],
      "text/plain": [
       "XGBRegressor(base_score=None, booster=None, callbacks=None,\n",
       "             colsample_bylevel=None, colsample_bynode=None,\n",
       "             colsample_bytree=0.863933806939917, device=None,\n",
       "             early_stopping_rounds=None, enable_categorical=False,\n",
       "             eval_metric=None, feature_types=None, feature_weights=None,\n",
       "             gamma=None, grow_policy=None, importance_type=None,\n",
       "             interaction_constraints=None, learning_rate=0.021539536684396895,\n",
       "             max_bin=None, max_cat_threshold=None, max_cat_to_onehot=None,\n",
       "             max_delta_step=None, max_depth=10, max_leaves=None,\n",
       "             min_child_weight=None, missing=nan, monotone_constraints=None,\n",
       "             multi_strategy=None, n_estimators=397, n_jobs=None,\n",
       "             num_parallel_tree=None, ...)"
      ]
     },
     "execution_count": 27,
     "metadata": {},
     "output_type": "execute_result"
    }
   ],
   "source": [
    "X = trainData.drop('accident_risk', axis=1)\n",
    "y = trainData['accident_risk']\n",
    "\n",
    "X_train, X_test, y_train, y_test = train_test_split(X, y, test_size=0.2, random_state=42)\n",
    "\n",
    "def objective(trial):\n",
    "    params = {\n",
    "        'n_estimators': trial.suggest_int('n_estimators', 100, 1000),\n",
    "        'max_depth': trial.suggest_int('max_depth', 3, 12),\n",
    "        'learning_rate': trial.suggest_float('learning_rate', 0.01, 0.3, log=True),\n",
    "        'subsample': trial.suggest_float('subsample', 0.5, 1.0),\n",
    "        'colsample_bytree': trial.suggest_float('colsample_bytree', 0.5, 1.0),\n",
    "        'reg_alpha': trial.suggest_float('reg_alpha', 1e-8, 10.0, log=True),\n",
    "        'reg_lambda': trial.suggest_float('reg_lambda', 1e-8, 10.0, log=True),\n",
    "        'random_state': 42,\n",
    "        'n_jobs': -1,\n",
    "        'tree_method': 'gpu_hist',\n",
    "        'device' : 'gpu'\n",
    "    }\n",
    "\n",
    "    model = XGBRegressor(**params)\n",
    "    kf = KFold(n_splits=5, shuffle=True, random_state=42)\n",
    "    scores = -cross_val_score(model, X_train, y_train, cv=kf, scoring='neg_mean_squared_error')\n",
    "    \n",
    "    return np.mean(scores)\n",
    "\n",
    "study = optuna.create_study(direction='minimize')\n",
    "study.optimize(objective, n_trials=100, show_progress_bar=True)\n",
    "\n",
    "print(\"Best RMSE:\", np.sqrt(study.best_value))\n",
    "print(\"Best params:\", study.best_params)\n",
    "\n",
    "best_model = XGBRegressor(**study.best_params)\n",
    "best_model.fit(X, y)"
   ]
  },
  {
   "cell_type": "code",
   "execution_count": 29,
   "id": "24bb842b",
   "metadata": {},
   "outputs": [],
   "source": [
    "best_model = XGBRegressor(**study.best_params)\n",
    "giveSubmission(best_model, testData, X, y, 'tunedSub.csv')"
   ]
  },
  {
   "cell_type": "code",
   "execution_count": null,
   "id": "1d06e13e",
   "metadata": {},
   "outputs": [],
   "source": []
  }
 ],
 "metadata": {
  "kernelspec": {
   "display_name": "Python 3 (ipykernel)",
   "language": "python",
   "name": "python3"
  },
  "language_info": {
   "codemirror_mode": {
    "name": "ipython",
    "version": 3
   },
   "file_extension": ".py",
   "mimetype": "text/x-python",
   "name": "python",
   "nbconvert_exporter": "python",
   "pygments_lexer": "ipython3",
   "version": "3.10.10"
  }
 },
 "nbformat": 4,
 "nbformat_minor": 5
}
